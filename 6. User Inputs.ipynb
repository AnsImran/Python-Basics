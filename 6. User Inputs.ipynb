{
 "cells": [
  {
   "cell_type": "code",
   "execution_count": 2,
   "id": "8b3aa39a",
   "metadata": {},
   "outputs": [
    {
     "name": "stdout",
     "output_type": "stream",
     "text": [
      "AoA!\n"
     ]
    }
   ],
   "source": [
    "'''\n",
    "chapter no. 23\n",
    "- A smater way to learn python\n",
    "\n",
    "'''\n",
    "\n",
    "print('AoA!')"
   ]
  },
  {
   "cell_type": "code",
   "execution_count": 4,
   "id": "7782655a",
   "metadata": {},
   "outputs": [
    {
     "name": "stdout",
     "output_type": "stream",
     "text": [
      "please enter your name: Ans Imran\n",
      "please enter your age: 25\n"
     ]
    }
   ],
   "source": [
    "user_name = input('please enter your name: ')\n",
    "\n",
    "user_age = input('please enter your age: ')"
   ]
  },
  {
   "cell_type": "code",
   "execution_count": 9,
   "id": "9763c48a",
   "metadata": {},
   "outputs": [
    {
     "name": "stdout",
     "output_type": "stream",
     "text": [
      "please enter your age: 10\n",
      "user age =  109\n"
     ]
    }
   ],
   "source": [
    "user_age = input('please enter your age: ') # you can  get data from user only in string form\n",
    "\n",
    "a = user_age + '9'\n",
    "\n",
    "print('user age = ',a)"
   ]
  },
  {
   "cell_type": "code",
   "execution_count": 13,
   "id": "2debebc7",
   "metadata": {},
   "outputs": [
    {
     "name": "stdout",
     "output_type": "stream",
     "text": [
      "please enter your age: 15\n",
      "user age =  24\n"
     ]
    }
   ],
   "source": [
    "user_age = input('please enter your age: ') # you can  get data from user only in string form\n",
    "\n",
    "int_user_age = int(user_age) # use this function to convert user input into integer value i.e. to typecast the user input\n",
    "\n",
    "a = int_user_age + 9\n",
    "\n",
    "print('user age = ',a)"
   ]
  },
  {
   "cell_type": "code",
   "execution_count": null,
   "id": "b862db26",
   "metadata": {},
   "outputs": [],
   "source": []
  }
 ],
 "metadata": {
  "kernelspec": {
   "display_name": "Python 3 (ipykernel)",
   "language": "python",
   "name": "python3"
  },
  "language_info": {
   "codemirror_mode": {
    "name": "ipython",
    "version": 3
   },
   "file_extension": ".py",
   "mimetype": "text/x-python",
   "name": "python",
   "nbconvert_exporter": "python",
   "pygments_lexer": "ipython3",
   "version": "3.9.7"
  }
 },
 "nbformat": 4,
 "nbformat_minor": 5
}
