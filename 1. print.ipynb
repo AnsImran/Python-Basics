{
 "cells": [
  {
   "cell_type": "code",
   "execution_count": 4,
   "id": "01877f63",
   "metadata": {},
   "outputs": [
    {
     "name": "stdout",
     "output_type": "stream",
     "text": [
      "1000\n"
     ]
    }
   ],
   "source": [
    "print(1000) # integer data"
   ]
  },
  {
   "cell_type": "code",
   "execution_count": 5,
   "id": "0f83a645",
   "metadata": {},
   "outputs": [
    {
     "name": "stdout",
     "output_type": "stream",
     "text": [
      "123 456\n"
     ]
    }
   ],
   "source": [
    "print(123,456) #print function can take more than one values at the same time.\n",
    "                # it can take infinite values as input"
   ]
  },
  {
   "cell_type": "code",
   "execution_count": 7,
   "id": "4a1850c1",
   "metadata": {},
   "outputs": [
    {
     "name": "stdout",
     "output_type": "stream",
     "text": [
      "1 2 3 3 4\n"
     ]
    }
   ],
   "source": [
    "print(1,2,3,3,4)"
   ]
  },
  {
   "cell_type": "code",
   "execution_count": 9,
   "id": "06612d66",
   "metadata": {},
   "outputs": [
    {
     "name": "stdout",
     "output_type": "stream",
     "text": [
      "123 12.3\n"
     ]
    }
   ],
   "source": [
    "print(12.3) # floating point value/data"
   ]
  },
  {
   "cell_type": "code",
   "execution_count": 1,
   "id": "e1c0a420",
   "metadata": {},
   "outputs": [
    {
     "name": "stdout",
     "output_type": "stream",
     "text": [
      "hello\n"
     ]
    }
   ],
   "source": [
    "print(\"hello\") # string value.\n",
    "\n",
    "# Anything written inside inverted commas wll be treated\n",
    "# as a string value. If you write print(\"12\"), now in this case 12 will\n",
    "# not be treated as an integer value, instead it'll be treated as a \n",
    "# string value"
   ]
  },
  {
   "cell_type": "code",
   "execution_count": 13,
   "id": "1c6be7e1",
   "metadata": {},
   "outputs": [
    {
     "name": "stdout",
     "output_type": "stream",
     "text": [
      "12\n"
     ]
    }
   ],
   "source": [
    "print(\"12\")"
   ]
  },
  {
   "cell_type": "code",
   "execution_count": 14,
   "id": "bed265dd",
   "metadata": {},
   "outputs": [
    {
     "name": "stdout",
     "output_type": "stream",
     "text": [
      "123pakistan\n"
     ]
    }
   ],
   "source": [
    "print(\"123pakistan\") # alphanumeric data"
   ]
  },
  {
   "cell_type": "code",
   "execution_count": 15,
   "id": "243582a0",
   "metadata": {},
   "outputs": [
    {
     "name": "stdout",
     "output_type": "stream",
     "text": [
      "123 asd\n"
     ]
    }
   ],
   "source": [
    "print(123,\"asd\")"
   ]
  },
  {
   "cell_type": "code",
   "execution_count": 17,
   "id": "d4a435e4",
   "metadata": {},
   "outputs": [
    {
     "name": "stdout",
     "output_type": "stream",
     "text": [
      "\n"
     ]
    }
   ],
   "source": [
    "print()\n",
    "# if u place the cursor inside the parenthesis, and then press shift + tab\n",
    "# it'll show you the signature of the function. see subsequest examples\n",
    "# A signature gives you info about the functionality of the function"
   ]
  },
  {
   "cell_type": "code",
   "execution_count": 23,
   "id": "6e776235",
   "metadata": {},
   "outputs": [
    {
     "name": "stdout",
     "output_type": "stream",
     "text": [
      "pakistan python piaic\n"
     ]
    }
   ],
   "source": [
    "print(\"pakistan\", 'python','piaic')"
   ]
  },
  {
   "cell_type": "code",
   "execution_count": 24,
   "id": "10974e35",
   "metadata": {},
   "outputs": [
    {
     "name": "stdout",
     "output_type": "stream",
     "text": [
      "pakistanpythonpiaic\n"
     ]
    }
   ],
   "source": [
    "print(\"pakistan\", 'python','piaic', sep=\"\") #sep = separator"
   ]
  },
  {
   "cell_type": "code",
   "execution_count": 25,
   "id": "21634b1f",
   "metadata": {},
   "outputs": [
    {
     "name": "stdout",
     "output_type": "stream",
     "text": [
      "pakistan python piaic\n"
     ]
    }
   ],
   "source": [
    "print(\"pakistan\", 'python','piaic', sep=\" \")"
   ]
  },
  {
   "cell_type": "code",
   "execution_count": 29,
   "id": "ca6bf38f",
   "metadata": {},
   "outputs": [
    {
     "name": "stdout",
     "output_type": "stream",
     "text": [
      "pakistan * python * piaic\n"
     ]
    }
   ],
   "source": [
    "print(\"pakistan\", 'python','piaic', sep=' * ' )"
   ]
  },
  {
   "cell_type": "code",
   "execution_count": 27,
   "id": "c82f25b9",
   "metadata": {},
   "outputs": [
    {
     "name": "stdout",
     "output_type": "stream",
     "text": [
      "hello world1\n",
      "hello world2\n",
      "hello world3\n"
     ]
    }
   ],
   "source": [
    "print(\"hello world1\")\n",
    "print(\"hello world2\")\n",
    "print(\"hello world3\")"
   ]
  },
  {
   "cell_type": "code",
   "execution_count": 33,
   "id": "0d275693",
   "metadata": {},
   "outputs": [
    {
     "name": "stdout",
     "output_type": "stream",
     "text": [
      "hello world1hello world2\n",
      "hello world3\n"
     ]
    }
   ],
   "source": [
    "print(\"hello world1\", end='')\n",
    "print(\"hello world2\")\n",
    "print(\"hello world3\")"
   ]
  },
  {
   "cell_type": "code",
   "execution_count": 34,
   "id": "e0eef247",
   "metadata": {},
   "outputs": [
    {
     "name": "stdout",
     "output_type": "stream",
     "text": [
      "hello world1hello world2hello world3\n"
     ]
    }
   ],
   "source": [
    "print(\"hello world1\", end='')\n",
    "print(\"hello world2\", end='')\n",
    "print(\"hello world3\")"
   ]
  },
  {
   "cell_type": "code",
   "execution_count": 36,
   "id": "a1f504a2",
   "metadata": {},
   "outputs": [
    {
     "name": "stdout",
     "output_type": "stream",
     "text": [
      "hello world1 * hello world2 ^ hello world3\n"
     ]
    }
   ],
   "source": [
    "print(\"hello world1\", end=' * ')\n",
    "print(\"hello world2\", end=' ^ ')\n",
    "print(\"hello world3\")"
   ]
  },
  {
   "cell_type": "code",
   "execution_count": 37,
   "id": "35067530",
   "metadata": {},
   "outputs": [
    {
     "name": "stdout",
     "output_type": "stream",
     "text": [
      "hello world1\thello world2\n",
      "\n",
      "hello world3\n"
     ]
    }
   ],
   "source": [
    "print(\"hello world1\", end='\\t')   #\\t = tab\n",
    "print(\"hello world2\", end='\\n\\n') #\\n = new line\n",
    "print(\"hello world3\")"
   ]
  },
  {
   "cell_type": "code",
   "execution_count": 38,
   "id": "157c6ded",
   "metadata": {},
   "outputs": [
    {
     "name": "stdout",
     "output_type": "stream",
     "text": [
      "hello world1\n",
      "\n",
      "\n",
      "hello world2\n",
      "\n",
      "\n",
      "\n",
      "hello world3\n"
     ]
    }
   ],
   "source": [
    "print(\"hello world1\", end='\\n\\n\\n')\n",
    "print(\"hello world2\", end='\\n\\n\\n\\n')\n",
    "print(\"hello world3\")"
   ]
  },
  {
   "cell_type": "code",
   "execution_count": 44,
   "id": "39f386b4",
   "metadata": {},
   "outputs": [
    {
     "name": "stdout",
     "output_type": "stream",
     "text": [
      "hello world1\n"
     ]
    }
   ],
   "source": [
    "print(\"hello world1\")"
   ]
  },
  {
   "cell_type": "code",
   "execution_count": null,
   "id": "875dc3db",
   "metadata": {},
   "outputs": [],
   "source": []
  }
 ],
 "metadata": {
  "kernelspec": {
   "display_name": "Python 3 (ipykernel)",
   "language": "python",
   "name": "python3"
  },
  "language_info": {
   "codemirror_mode": {
    "name": "ipython",
    "version": 3
   },
   "file_extension": ".py",
   "mimetype": "text/x-python",
   "name": "python",
   "nbconvert_exporter": "python",
   "pygments_lexer": "ipython3",
   "version": "3.9.7"
  }
 },
 "nbformat": 4,
 "nbformat_minor": 5
}
