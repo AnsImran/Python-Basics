{
 "cells": [
  {
   "cell_type": "markdown",
   "id": "babf7896",
   "metadata": {},
   "source": [
    "# Changing Case"
   ]
  },
  {
   "cell_type": "code",
   "execution_count": null,
   "id": "091a3a00",
   "metadata": {},
   "outputs": [],
   "source": [
    "'''\n",
    "Chapter 24\n",
    "\n",
    "- A smarter way to learn Python\n",
    "\n",
    "'''"
   ]
  },
  {
   "cell_type": "code",
   "execution_count": 14,
   "id": "0e158182",
   "metadata": {},
   "outputs": [],
   "source": [
    "cleanest_cities = ['bahawalpur', 'lahore', 'islamabad', 'faisalabad']"
   ]
  },
  {
   "cell_type": "code",
   "execution_count": 17,
   "id": "20821101",
   "metadata": {
    "scrolled": true
   },
   "outputs": [
    {
     "name": "stdout",
     "output_type": "stream",
     "text": [
      "Enter the name of your city: LaHorE\n",
      "lahore\n",
      "Your city is one of the cleanest cities of Pakistan\n"
     ]
    }
   ],
   "source": [
    "a = input('Enter the name of your city: ')\n",
    "a = a.lower()\n",
    "c = 0\n",
    "\n",
    "for b in cleanest_cities:\n",
    "    if a == b:\n",
    "        print('Your city is one of the cleanest cities of Pakistan')\n",
    "        c = 1\n",
    "        break\n",
    "\n",
    "if c == 0:\n",
    "    print('Your city is not one of the cleanest cities of Pakistan')"
   ]
  },
  {
   "cell_type": "code",
   "execution_count": 20,
   "id": "f7e7cbcd",
   "metadata": {},
   "outputs": [
    {
     "name": "stdout",
     "output_type": "stream",
     "text": [
      "Enter the name of your city: bwp\n",
      "The user entered: bwp\n",
      "After conversion, it becomes: BWP\n"
     ]
    }
   ],
   "source": [
    "a = input('Enter the name of your city: ')\n",
    "\n",
    "print(f'The user entered: {a}')\n",
    "\n",
    "a = a.upper()                   #upper case conversion\n",
    "\n",
    "print(f'After conversion, it becomes: {a}')"
   ]
  },
  {
   "cell_type": "code",
   "execution_count": 25,
   "id": "7c04ce94",
   "metadata": {},
   "outputs": [
    {
     "name": "stdout",
     "output_type": "stream",
     "text": [
      "Enter the name of your town: hakeemaan vala\n",
      "The user entered: hakeemaan vala\n",
      "\n",
      " After conversion, it becomes: Hakeemaan Vala\n"
     ]
    }
   ],
   "source": [
    "a = input('Enter the name of your town: ')\n",
    "\n",
    "print(f'The user entered: {a}')\n",
    "\n",
    "a = a.title()                   #Capitalizing the first letter of each word\n",
    "\n",
    "print(f'\\n After conversion, it becomes: {a}')"
   ]
  },
  {
   "cell_type": "code",
   "execution_count": null,
   "id": "74b24f22",
   "metadata": {},
   "outputs": [],
   "source": []
  }
 ],
 "metadata": {
  "kernelspec": {
   "display_name": "Python 3 (ipykernel)",
   "language": "python",
   "name": "python3"
  },
  "language_info": {
   "codemirror_mode": {
    "name": "ipython",
    "version": 3
   },
   "file_extension": ".py",
   "mimetype": "text/x-python",
   "name": "python",
   "nbconvert_exporter": "python",
   "pygments_lexer": "ipython3",
   "version": "3.9.7"
  }
 },
 "nbformat": 4,
 "nbformat_minor": 5
}
