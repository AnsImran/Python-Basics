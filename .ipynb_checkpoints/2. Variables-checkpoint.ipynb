{
 "cells": [
  {
   "cell_type": "code",
   "execution_count": 1,
   "id": "e4342102",
   "metadata": {},
   "outputs": [],
   "source": [
    "a = 10\n",
    "\n",
    "# 'a' is the name of variable also called indentifier\n",
    "# '=' is called the assignment operator\n",
    "# '10' is called the value (integer value)\n",
    "# read it as \"A integer value 10 is assigned to a variable 'a' \""
   ]
  },
  {
   "cell_type": "code",
   "execution_count": 2,
   "id": "52ea613d",
   "metadata": {},
   "outputs": [
    {
     "name": "stdout",
     "output_type": "stream",
     "text": [
      "10\n"
     ]
    }
   ],
   "source": [
    "print(a)"
   ]
  },
  {
   "cell_type": "code",
   "execution_count": 3,
   "id": "e891dcfd",
   "metadata": {},
   "outputs": [],
   "source": [
    "a = 10.6\n",
    "\n",
    "# old value is OVER RIDE"
   ]
  },
  {
   "cell_type": "code",
   "execution_count": 20,
   "id": "77f9b02a",
   "metadata": {},
   "outputs": [],
   "source": [
    "a = \"lund\""
   ]
  },
  {
   "cell_type": "code",
   "execution_count": 19,
   "id": "b87d716d",
   "metadata": {},
   "outputs": [
    {
     "name": "stdout",
     "output_type": "stream",
     "text": [
      "lund\n"
     ]
    }
   ],
   "source": [
    "print(a)"
   ]
  },
  {
   "cell_type": "code",
   "execution_count": 14,
   "id": "79495932",
   "metadata": {},
   "outputs": [],
   "source": [
    "# from 1 , 3 & 6 it is clear that any type of value/data can be stored in 'a'"
   ]
  },
  {
   "cell_type": "code",
   "execution_count": 15,
   "id": "8085beb8",
   "metadata": {
    "scrolled": true
   },
   "outputs": [
    {
     "name": "stdout",
     "output_type": "stream",
     "text": [
      "lund\n"
     ]
    }
   ],
   "source": [
    "print(a)"
   ]
  },
  {
   "cell_type": "code",
   "execution_count": 16,
   "id": "a71e16a0",
   "metadata": {},
   "outputs": [
    {
     "data": {
      "text/plain": [
       "str"
      ]
     },
     "execution_count": 16,
     "metadata": {},
     "output_type": "execute_result"
    }
   ],
   "source": [
    "type(a)"
   ]
  },
  {
   "cell_type": "code",
   "execution_count": 17,
   "id": "d0c1e344",
   "metadata": {},
   "outputs": [
    {
     "data": {
      "text/plain": [
       "'lund'"
      ]
     },
     "execution_count": 17,
     "metadata": {},
     "output_type": "execute_result"
    }
   ],
   "source": [
    "a"
   ]
  },
  {
   "cell_type": "code",
   "execution_count": 23,
   "id": "7db02fc2",
   "metadata": {},
   "outputs": [
    {
     "name": "stdout",
     "output_type": "stream",
     "text": [
      "AnsImran\n"
     ]
    }
   ],
   "source": [
    "student_name = \"Ans\"\n",
    "father_name = \"Imran\"\n",
    "\n",
    "print(student_name+father_name)\n",
    "\n",
    "# the + sign performs concatenation when values are string type"
   ]
  },
  {
   "cell_type": "code",
   "execution_count": 25,
   "id": "c2e47f02",
   "metadata": {},
   "outputs": [
    {
     "name": "stdout",
     "output_type": "stream",
     "text": [
      "300.2\n"
     ]
    }
   ],
   "source": [
    "n1 = 100\n",
    "n2 = 200.2\n",
    "\n",
    "sum = n1 + n2  # the + sign performs summation when values are integer or floating type\n",
    "\n",
    "print(sum)"
   ]
  },
  {
   "cell_type": "code",
   "execution_count": null,
   "id": "cb6eb074",
   "metadata": {},
   "outputs": [],
   "source": []
  }
 ],
 "metadata": {
  "kernelspec": {
   "display_name": "Python 3 (ipykernel)",
   "language": "python",
   "name": "python3"
  },
  "language_info": {
   "codemirror_mode": {
    "name": "ipython",
    "version": 3
   },
   "file_extension": ".py",
   "mimetype": "text/x-python",
   "name": "python",
   "nbconvert_exporter": "python",
   "pygments_lexer": "ipython3",
   "version": "3.9.7"
  }
 },
 "nbformat": 4,
 "nbformat_minor": 5
}
