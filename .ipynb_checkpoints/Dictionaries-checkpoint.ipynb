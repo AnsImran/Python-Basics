{
 "cells": [
  {
   "cell_type": "markdown",
   "id": "42f4b44e",
   "metadata": {},
   "source": [
    "# Dictionaries"
   ]
  },
  {
   "cell_type": "code",
   "execution_count": null,
   "id": "e09aa60d",
   "metadata": {},
   "outputs": [],
   "source": [
    "'''\n",
    "Chapters 25 - 33\n",
    "'''"
   ]
  },
  {
   "cell_type": "code",
   "execution_count": 1,
   "id": "33e11f6c",
   "metadata": {},
   "outputs": [],
   "source": [
    "customer_1 = {'first name':'Ans', 'last name':'Imran', 'address':'mohallah hakeemaan vala'}"
   ]
  },
  {
   "cell_type": "code",
   "execution_count": 4,
   "id": "69b16505",
   "metadata": {
    "scrolled": true
   },
   "outputs": [
    {
     "data": {
      "text/plain": [
       "'mohallah hakeemaan vala'"
      ]
     },
     "execution_count": 4,
     "metadata": {},
     "output_type": "execute_result"
    }
   ],
   "source": [
    "address_of_customer_1 = customer_1[\"address\"]\n",
    "\n",
    "address_of_customer_1"
   ]
  },
  {
   "cell_type": "code",
   "execution_count": null,
   "id": "396b18b7",
   "metadata": {},
   "outputs": [],
   "source": []
  },
  {
   "cell_type": "code",
   "execution_count": null,
   "id": "9f834334",
   "metadata": {},
   "outputs": [],
   "source": []
  },
  {
   "cell_type": "code",
   "execution_count": 5,
   "id": "f3e209e7",
   "metadata": {},
   "outputs": [],
   "source": [
    "country_rank = {'Pakistan':1, 'USA':2, 'Maldives':3, 'China':4}"
   ]
  },
  {
   "cell_type": "code",
   "execution_count": 7,
   "id": "c0b0980b",
   "metadata": {},
   "outputs": [
    {
     "data": {
      "text/plain": [
       "1"
      ]
     },
     "execution_count": 7,
     "metadata": {},
     "output_type": "execute_result"
    }
   ],
   "source": [
    "rank_of_pk = country_rank['Pakistan']\n",
    "\n",
    "rank_of_pk"
   ]
  },
  {
   "cell_type": "code",
   "execution_count": null,
   "id": "239b2049",
   "metadata": {},
   "outputs": [],
   "source": []
  },
  {
   "cell_type": "code",
   "execution_count": null,
   "id": "4f8fdeca",
   "metadata": {},
   "outputs": [],
   "source": []
  },
  {
   "cell_type": "code",
   "execution_count": 8,
   "id": "6899d9b8",
   "metadata": {},
   "outputs": [],
   "source": [
    "country_rank = {1:'Pakistan', 2:'USA', 3:'Maldives', 4:'China'}"
   ]
  },
  {
   "cell_type": "code",
   "execution_count": 9,
   "id": "5b2ba9d0",
   "metadata": {},
   "outputs": [
    {
     "data": {
      "text/plain": [
       "'Pakistan'"
      ]
     },
     "execution_count": 9,
     "metadata": {},
     "output_type": "execute_result"
    }
   ],
   "source": [
    "rank_1_c = country_rank[1]\n",
    "\n",
    "rank_1_c"
   ]
  },
  {
   "cell_type": "code",
   "execution_count": null,
   "id": "4193f9d7",
   "metadata": {},
   "outputs": [],
   "source": []
  },
  {
   "cell_type": "code",
   "execution_count": null,
   "id": "e4aa34ee",
   "metadata": {},
   "outputs": [],
   "source": []
  },
  {
   "cell_type": "code",
   "execution_count": 10,
   "id": "577a6a3d",
   "metadata": {},
   "outputs": [],
   "source": [
    "things_to_remember = {\n",
    " 0: \"the lowest number\",\n",
    " \"a dozen\": 12,\n",
    " \"snake eyes\": \"a pair of ones\",\n",
    " 13: \"a baker's dozen\",\n",
    "                     }"
   ]
  },
  {
   "cell_type": "code",
   "execution_count": 11,
   "id": "f2ba3e76",
   "metadata": {},
   "outputs": [
    {
     "data": {
      "text/plain": [
       "'the lowest number'"
      ]
     },
     "execution_count": 11,
     "metadata": {},
     "output_type": "execute_result"
    }
   ],
   "source": [
    "things_to_remember[0]"
   ]
  },
  {
   "cell_type": "code",
   "execution_count": null,
   "id": "1dde7711",
   "metadata": {},
   "outputs": [],
   "source": []
  },
  {
   "cell_type": "code",
   "execution_count": null,
   "id": "554df04d",
   "metadata": {},
   "outputs": [],
   "source": []
  },
  {
   "cell_type": "code",
   "execution_count": null,
   "id": "5442a7ee",
   "metadata": {},
   "outputs": [],
   "source": []
  }
 ],
 "metadata": {
  "kernelspec": {
   "display_name": "Python 3 (ipykernel)",
   "language": "python",
   "name": "python3"
  },
  "language_info": {
   "codemirror_mode": {
    "name": "ipython",
    "version": 3
   },
   "file_extension": ".py",
   "mimetype": "text/x-python",
   "name": "python",
   "nbconvert_exporter": "python",
   "pygments_lexer": "ipython3",
   "version": "3.9.7"
  }
 },
 "nbformat": 4,
 "nbformat_minor": 5
}
