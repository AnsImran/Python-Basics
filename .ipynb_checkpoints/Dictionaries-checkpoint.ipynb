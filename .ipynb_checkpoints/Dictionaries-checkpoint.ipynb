{
 "cells": [
  {
   "cell_type": "markdown",
   "id": "42f4b44e",
   "metadata": {},
   "source": [
    "# Dictionaries"
   ]
  },
  {
   "cell_type": "code",
   "execution_count": null,
   "id": "e09aa60d",
   "metadata": {},
   "outputs": [],
   "source": [
    "'''\n",
    "Chapters 25 - 33\n",
    "'''"
   ]
  },
  {
   "cell_type": "markdown",
   "id": "cd54091a",
   "metadata": {},
   "source": [
    "# How to Create and access a dictionary"
   ]
  },
  {
   "cell_type": "code",
   "execution_count": 1,
   "id": "33e11f6c",
   "metadata": {},
   "outputs": [],
   "source": [
    "customer_1 = {'first name':'Ans', 'last name':'Imran', 'address':'mohallah hakeemaan vala'}"
   ]
  },
  {
   "cell_type": "code",
   "execution_count": 4,
   "id": "69b16505",
   "metadata": {
    "scrolled": true
   },
   "outputs": [
    {
     "data": {
      "text/plain": [
       "'mohallah hakeemaan vala'"
      ]
     },
     "execution_count": 4,
     "metadata": {},
     "output_type": "execute_result"
    }
   ],
   "source": [
    "address_of_customer_1 = customer_1[\"address\"]\n",
    "\n",
    "address_of_customer_1"
   ]
  },
  {
   "cell_type": "code",
   "execution_count": null,
   "id": "396b18b7",
   "metadata": {},
   "outputs": [],
   "source": []
  },
  {
   "cell_type": "markdown",
   "id": "33ca36e5",
   "metadata": {},
   "source": [
    "# Values can be be numerical"
   ]
  },
  {
   "cell_type": "code",
   "execution_count": 5,
   "id": "f3e209e7",
   "metadata": {},
   "outputs": [],
   "source": [
    "country_rank = {'Pakistan':1, 'USA':2, 'Maldives':3, 'China':4}"
   ]
  },
  {
   "cell_type": "code",
   "execution_count": 7,
   "id": "c0b0980b",
   "metadata": {},
   "outputs": [
    {
     "data": {
      "text/plain": [
       "1"
      ]
     },
     "execution_count": 7,
     "metadata": {},
     "output_type": "execute_result"
    }
   ],
   "source": [
    "rank_of_pk = country_rank['Pakistan']\n",
    "\n",
    "rank_of_pk"
   ]
  },
  {
   "cell_type": "code",
   "execution_count": null,
   "id": "239b2049",
   "metadata": {},
   "outputs": [],
   "source": []
  },
  {
   "cell_type": "markdown",
   "id": "919a5bad",
   "metadata": {},
   "source": [
    "# Keys can be numerical"
   ]
  },
  {
   "cell_type": "code",
   "execution_count": 8,
   "id": "6899d9b8",
   "metadata": {},
   "outputs": [],
   "source": [
    "country_rank = {1:'Pakistan', 2:'USA', 3:'Maldives', 4:'China'}"
   ]
  },
  {
   "cell_type": "code",
   "execution_count": 9,
   "id": "5b2ba9d0",
   "metadata": {},
   "outputs": [
    {
     "data": {
      "text/plain": [
       "'Pakistan'"
      ]
     },
     "execution_count": 9,
     "metadata": {},
     "output_type": "execute_result"
    }
   ],
   "source": [
    "rank_1_c = country_rank[1]\n",
    "\n",
    "rank_1_c"
   ]
  },
  {
   "cell_type": "code",
   "execution_count": null,
   "id": "4193f9d7",
   "metadata": {},
   "outputs": [],
   "source": []
  },
  {
   "cell_type": "markdown",
   "id": "fe408538",
   "metadata": {},
   "source": [
    "# Writing each new key:value pair on a successive line"
   ]
  },
  {
   "cell_type": "code",
   "execution_count": 10,
   "id": "577a6a3d",
   "metadata": {},
   "outputs": [],
   "source": [
    "things_to_remember = {\n",
    " 0: \"the lowest number\",\n",
    " \"a dozen\": 12,\n",
    " \"snake eyes\": \"a pair of ones\",\n",
    " 13: \"a baker's dozen\",\n",
    "                     }"
   ]
  },
  {
   "cell_type": "code",
   "execution_count": 11,
   "id": "f2ba3e76",
   "metadata": {},
   "outputs": [
    {
     "data": {
      "text/plain": [
       "'the lowest number'"
      ]
     },
     "execution_count": 11,
     "metadata": {},
     "output_type": "execute_result"
    }
   ],
   "source": [
    "things_to_remember[0]"
   ]
  },
  {
   "cell_type": "code",
   "execution_count": null,
   "id": "1dde7711",
   "metadata": {},
   "outputs": [],
   "source": []
  },
  {
   "cell_type": "markdown",
   "id": "0ee81f0b",
   "metadata": {},
   "source": [
    "# Dictionaries: Adding items"
   ]
  },
  {
   "cell_type": "code",
   "execution_count": 9,
   "id": "5442a7ee",
   "metadata": {},
   "outputs": [],
   "source": [
    "customer_1[\"city\"] = \"Qaimpur\""
   ]
  },
  {
   "cell_type": "code",
   "execution_count": 10,
   "id": "d1fa37ed",
   "metadata": {},
   "outputs": [
    {
     "data": {
      "text/plain": [
       "{'first name': 'Ans',\n",
       " 'last name': 'Imran',\n",
       " 'address': 'mohallah hakeemaan vala',\n",
       " 'city': 'Qaimpur'}"
      ]
     },
     "execution_count": 10,
     "metadata": {},
     "output_type": "execute_result"
    }
   ],
   "source": [
    "customer_1"
   ]
  },
  {
   "cell_type": "code",
   "execution_count": 12,
   "id": "0a34ee9a",
   "metadata": {},
   "outputs": [],
   "source": [
    "customer_1[\"mobile\"] = 923077424367"
   ]
  },
  {
   "cell_type": "code",
   "execution_count": 13,
   "id": "083a2dad",
   "metadata": {},
   "outputs": [
    {
     "data": {
      "text/plain": [
       "{'first name': 'Ans',\n",
       " 'last name': 'Imran',\n",
       " 'address': 'mohallah hakeemaan vala',\n",
       " 'city': 'Qaimpur',\n",
       " 'mobile': 923077424367}"
      ]
     },
     "execution_count": 13,
     "metadata": {},
     "output_type": "execute_result"
    }
   ],
   "source": [
    "customer_1"
   ]
  },
  {
   "cell_type": "code",
   "execution_count": null,
   "id": "b2d26976",
   "metadata": {},
   "outputs": [],
   "source": []
  },
  {
   "cell_type": "markdown",
   "id": "6aa5be35",
   "metadata": {},
   "source": [
    "## define an empty dictionary"
   ]
  },
  {
   "cell_type": "code",
   "execution_count": 27,
   "id": "97c2beff",
   "metadata": {},
   "outputs": [],
   "source": [
    "customer_2 = {}"
   ]
  },
  {
   "cell_type": "code",
   "execution_count": 15,
   "id": "d0d5fb57",
   "metadata": {},
   "outputs": [],
   "source": [
    "# later we can add anything to this dictionary"
   ]
  },
  {
   "cell_type": "code",
   "execution_count": 28,
   "id": "c21cacb5",
   "metadata": {},
   "outputs": [],
   "source": [
    "customer_2['first name'] = 'Awais'"
   ]
  },
  {
   "cell_type": "code",
   "execution_count": 29,
   "id": "1ab6b7f5",
   "metadata": {},
   "outputs": [],
   "source": [
    "customer_2['last name'] = 'Imran'"
   ]
  },
  {
   "cell_type": "code",
   "execution_count": 30,
   "id": "2ef66061",
   "metadata": {},
   "outputs": [],
   "source": [
    "customer_2['address'] = 'mohallah hakeemaan vala'"
   ]
  },
  {
   "cell_type": "code",
   "execution_count": 31,
   "id": "5a7291b1",
   "metadata": {},
   "outputs": [],
   "source": [
    "customer_2['city'] = 'Qaimpur'"
   ]
  },
  {
   "cell_type": "code",
   "execution_count": 32,
   "id": "f787821a",
   "metadata": {},
   "outputs": [
    {
     "data": {
      "text/plain": [
       "{'first name': 'Awais',\n",
       " 'last name': 'Imran',\n",
       " 'address': 'mohallah hakeemaan vala',\n",
       " 'city': 'Qaimpur'}"
      ]
     },
     "execution_count": 32,
     "metadata": {},
     "output_type": "execute_result"
    }
   ],
   "source": [
    "customer_2"
   ]
  },
  {
   "cell_type": "code",
   "execution_count": 40,
   "id": "4698c574",
   "metadata": {},
   "outputs": [],
   "source": [
    "customer_2[1] = 45"
   ]
  },
  {
   "cell_type": "code",
   "execution_count": 34,
   "id": "fd558f58",
   "metadata": {},
   "outputs": [
    {
     "data": {
      "text/plain": [
       "{'first name': 'Awais',\n",
       " 'last name': 'Imran',\n",
       " 'address': 'mohallah hakeemaan vala',\n",
       " 'city': 'Qaimpur',\n",
       " 1: 45}"
      ]
     },
     "execution_count": 34,
     "metadata": {},
     "output_type": "execute_result"
    }
   ],
   "source": [
    "customer_2 # if the key is numeric in nature, you can forget about \"\"s\n",
    "            # similarly if value is numeric you can also again forget \"\"s"
   ]
  },
  {
   "cell_type": "code",
   "execution_count": null,
   "id": "b955ea19",
   "metadata": {},
   "outputs": [],
   "source": []
  },
  {
   "cell_type": "code",
   "execution_count": null,
   "id": "b98720a1",
   "metadata": {},
   "outputs": [],
   "source": []
  },
  {
   "cell_type": "markdown",
   "id": "fe67cd71",
   "metadata": {},
   "source": [
    "# Removing and changing items"
   ]
  },
  {
   "cell_type": "code",
   "execution_count": 41,
   "id": "99b6f253",
   "metadata": {},
   "outputs": [],
   "source": [
    "del customer_2[1]   # it'll delete the key '1' and it's corresponding value from the dictionary"
   ]
  },
  {
   "cell_type": "code",
   "execution_count": 42,
   "id": "78c606da",
   "metadata": {
    "scrolled": true
   },
   "outputs": [
    {
     "data": {
      "text/plain": [
       "{'first name': 'Awais',\n",
       " 'last name': 'Imran',\n",
       " 'address': 'mohallah hakeemaan vala',\n",
       " 'city': 'Qaimpur'}"
      ]
     },
     "execution_count": 42,
     "metadata": {},
     "output_type": "execute_result"
    }
   ],
   "source": [
    "customer_2"
   ]
  },
  {
   "cell_type": "code",
   "execution_count": null,
   "id": "03143770",
   "metadata": {},
   "outputs": [],
   "source": []
  },
  {
   "cell_type": "markdown",
   "id": "71145833",
   "metadata": {},
   "source": [
    "## Changing a value corresponding to a key"
   ]
  },
  {
   "cell_type": "code",
   "execution_count": 43,
   "id": "6ccd0857",
   "metadata": {},
   "outputs": [
    {
     "data": {
      "text/plain": [
       "{'first name': 'Awais',\n",
       " 'last name': 'Imran',\n",
       " 'address': 'mohallah hakeemaan vala',\n",
       " 'city': 'Qaimpur'}"
      ]
     },
     "execution_count": 43,
     "metadata": {},
     "output_type": "execute_result"
    }
   ],
   "source": [
    "customer_2"
   ]
  },
  {
   "cell_type": "code",
   "execution_count": 46,
   "id": "0d48509b",
   "metadata": {},
   "outputs": [],
   "source": [
    "customer_2['city'] = 'Kabirah Pulli'  # syntax is the same as for adding a new key and value"
   ]
  },
  {
   "cell_type": "code",
   "execution_count": 45,
   "id": "a57f10e4",
   "metadata": {},
   "outputs": [
    {
     "data": {
      "text/plain": [
       "{'first name': 'Awais',\n",
       " 'last name': 'Imran',\n",
       " 'address': 'mohallah hakeemaan vala',\n",
       " 'city': 'Kabirah Pulli'}"
      ]
     },
     "execution_count": 45,
     "metadata": {},
     "output_type": "execute_result"
    }
   ],
   "source": [
    "customer_2"
   ]
  },
  {
   "cell_type": "code",
   "execution_count": null,
   "id": "b3823fa2",
   "metadata": {},
   "outputs": [],
   "source": []
  },
  {
   "cell_type": "code",
   "execution_count": null,
   "id": "c152bc95",
   "metadata": {},
   "outputs": [],
   "source": []
  },
  {
   "cell_type": "markdown",
   "id": "4d5c94d9",
   "metadata": {},
   "source": [
    "# Looping through Values"
   ]
  },
  {
   "cell_type": "code",
   "execution_count": 48,
   "id": "e37cc2b8",
   "metadata": {},
   "outputs": [
    {
     "name": "stdout",
     "output_type": "stream",
     "text": [
      "Awais\n",
      "Imran\n",
      "mohallah hakeemaan vala\n",
      "Kabirah Pulli\n"
     ]
    }
   ],
   "source": [
    "for a in customer_2.values():\n",
    "    print(a)\n"
   ]
  },
  {
   "cell_type": "code",
   "execution_count": null,
   "id": "aa1cc642",
   "metadata": {},
   "outputs": [],
   "source": []
  },
  {
   "cell_type": "markdown",
   "id": "54d5f11a",
   "metadata": {},
   "source": [
    "# Looping through Keys"
   ]
  },
  {
   "cell_type": "code",
   "execution_count": 49,
   "id": "d1435cef",
   "metadata": {},
   "outputs": [
    {
     "name": "stdout",
     "output_type": "stream",
     "text": [
      "first name\n",
      "last name\n",
      "address\n",
      "city\n"
     ]
    }
   ],
   "source": [
    "for a in customer_2.keys():\n",
    "    print(a)\n"
   ]
  },
  {
   "cell_type": "markdown",
   "id": "ff3b957b",
   "metadata": {},
   "source": [
    "# Looping through Key-Value Pairs"
   ]
  },
  {
   "cell_type": "code",
   "execution_count": 51,
   "id": "1b277237",
   "metadata": {},
   "outputs": [
    {
     "name": "stdout",
     "output_type": "stream",
     "text": [
      "first name Awais\n",
      "last name Imran\n",
      "address mohallah hakeemaan vala\n",
      "city Kabirah Pulli\n"
     ]
    }
   ],
   "source": [
    "for a, b in customer_2.items():\n",
    "    print(a,b)\n"
   ]
  },
  {
   "cell_type": "code",
   "execution_count": null,
   "id": "d5a1f05e",
   "metadata": {},
   "outputs": [],
   "source": []
  },
  {
   "cell_type": "code",
   "execution_count": 57,
   "id": "e384fb8a",
   "metadata": {},
   "outputs": [
    {
     "name": "stdout",
     "output_type": "stream",
     "text": [
      "first name:  \t \t  Awais\n",
      "last name:  \t \t  Imran\n",
      "address:  \t \t  mohallah hakeemaan vala\n",
      "city:  \t \t  Kabirah Pulli\n"
     ]
    }
   ],
   "source": [
    "for a, b in customer_2.items():\n",
    "    print(f\"{a}:  \\t \\t  {b}\")\n"
   ]
  },
  {
   "cell_type": "code",
   "execution_count": null,
   "id": "ecde6d7a",
   "metadata": {},
   "outputs": [],
   "source": []
  }
 ],
 "metadata": {
  "kernelspec": {
   "display_name": "Python 3 (ipykernel)",
   "language": "python",
   "name": "python3"
  },
  "language_info": {
   "codemirror_mode": {
    "name": "ipython",
    "version": 3
   },
   "file_extension": ".py",
   "mimetype": "text/x-python",
   "name": "python",
   "nbconvert_exporter": "python",
   "pygments_lexer": "ipython3",
   "version": "3.9.7"
  }
 },
 "nbformat": 4,
 "nbformat_minor": 5
}
