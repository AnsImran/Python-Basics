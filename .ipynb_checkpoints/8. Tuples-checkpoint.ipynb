{
 "cells": [
  {
   "cell_type": "markdown",
   "id": "dacf2bbc",
   "metadata": {},
   "source": [
    "# Tuples"
   ]
  },
  {
   "cell_type": "code",
   "execution_count": null,
   "id": "213a2bd0",
   "metadata": {},
   "outputs": [],
   "source": [
    "'''\n",
    " A tuple—pronounced \"toople\" by some people and \"tupple\" by others—is like a\n",
    "list, but the elements are fixed. They can't be changed—unless you redefine the\n",
    "whole tuple.\n",
    "\n",
    "See Chapter 20\n",
    "- A Smarter Way to Learn Python\n",
    "'''"
   ]
  },
  {
   "cell_type": "code",
   "execution_count": 1,
   "id": "6a24272d",
   "metadata": {},
   "outputs": [],
   "source": [
    "atuple = ('Nasir',100,'Ali')"
   ]
  },
  {
   "cell_type": "code",
   "execution_count": 2,
   "id": "3fde9a67",
   "metadata": {},
   "outputs": [
    {
     "data": {
      "text/plain": [
       "3"
      ]
     },
     "execution_count": 2,
     "metadata": {},
     "output_type": "execute_result"
    }
   ],
   "source": [
    "len(atuple)"
   ]
  },
  {
   "cell_type": "code",
   "execution_count": 3,
   "id": "bc387235",
   "metadata": {},
   "outputs": [
    {
     "data": {
      "text/plain": [
       "100"
      ]
     },
     "execution_count": 3,
     "metadata": {},
     "output_type": "execute_result"
    }
   ],
   "source": [
    "atuple[1]"
   ]
  },
  {
   "cell_type": "code",
   "execution_count": 4,
   "id": "f497221f",
   "metadata": {},
   "outputs": [],
   "source": [
    "#Another way to define tuple"
   ]
  },
  {
   "cell_type": "code",
   "execution_count": 5,
   "id": "d2d7c0f3",
   "metadata": {},
   "outputs": [],
   "source": [
    "btuple = 12, 45"
   ]
  },
  {
   "cell_type": "code",
   "execution_count": 6,
   "id": "2149afd0",
   "metadata": {},
   "outputs": [
    {
     "data": {
      "text/plain": [
       "1"
      ]
     },
     "execution_count": 6,
     "metadata": {},
     "output_type": "execute_result"
    }
   ],
   "source": [
    "atuple.count(100)"
   ]
  },
  {
   "cell_type": "code",
   "execution_count": 8,
   "id": "c049e2fa",
   "metadata": {},
   "outputs": [
    {
     "data": {
      "text/plain": [
       "2"
      ]
     },
     "execution_count": 8,
     "metadata": {},
     "output_type": "execute_result"
    }
   ],
   "source": [
    "atuple.index('Ali')"
   ]
  },
  {
   "cell_type": "code",
   "execution_count": null,
   "id": "b4e7d1e9",
   "metadata": {},
   "outputs": [],
   "source": [
    "# Tuple k opar bas opar valay hi two functions lag sktay hain. jahan tak mujhay pta hya."
   ]
  }
 ],
 "metadata": {
  "kernelspec": {
   "display_name": "Python 3 (ipykernel)",
   "language": "python",
   "name": "python3"
  },
  "language_info": {
   "codemirror_mode": {
    "name": "ipython",
    "version": 3
   },
   "file_extension": ".py",
   "mimetype": "text/x-python",
   "name": "python",
   "nbconvert_exporter": "python",
   "pygments_lexer": "ipython3",
   "version": "3.9.7"
  }
 },
 "nbformat": 4,
 "nbformat_minor": 5
}
