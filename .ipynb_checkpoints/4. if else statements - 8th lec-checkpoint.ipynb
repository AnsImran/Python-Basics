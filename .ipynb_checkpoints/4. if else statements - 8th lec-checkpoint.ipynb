{
 "cells": [
  {
   "cell_type": "code",
   "execution_count": 1,
   "id": "0ca18eba",
   "metadata": {},
   "outputs": [
    {
     "name": "stdout",
     "output_type": "stream",
     "text": [
      "a is less than b\n",
      "Hello A\n",
      "Hello B\n"
     ]
    }
   ],
   "source": [
    "a = 100\n",
    "b = 200\n",
    "\n",
    "if a < b:\n",
    "    print(\"a is less than b\")\n",
    "    print(\"Hello A\")\n",
    "    print(\"Hello B\")"
   ]
  },
  {
   "cell_type": "code",
   "execution_count": 3,
   "id": "aacf7931",
   "metadata": {},
   "outputs": [
    {
     "name": "stdout",
     "output_type": "stream",
     "text": [
      "Hello python\n"
     ]
    }
   ],
   "source": [
    "a = 100\n",
    "b = 200\n",
    "\n",
    "if a > b:\n",
    "    print(\"a is less than b\")\n",
    "    print(\"Hello A\")\n",
    "    print(\"Hello B\")\n",
    "print(\"Hello python\") # 'Hello python' was printed because it was not inside the block\n",
    "                      # of 'if' statement. It was not inside the block of \n",
    "                      # if statement, because it was not under the same indentation\n",
    "                      # as the indentation of previous three print() functions"
   ]
  },
  {
   "cell_type": "code",
   "execution_count": 5,
   "id": "3282613f",
   "metadata": {},
   "outputs": [
    {
     "name": "stdout",
     "output_type": "stream",
     "text": [
      "a is less than b\n",
      "Hello A\n",
      "Hello B\n",
      "lun oye\n"
     ]
    }
   ],
   "source": [
    "a = 100\n",
    "b = 200\n",
    "\n",
    "if a < b:\n",
    "    print(\"a is less than b\")\n",
    "    print(\"Hello A\")\n",
    "    print(\"Hello B\")\n",
    "print(\"lun oye\")"
   ]
  },
  {
   "cell_type": "code",
   "execution_count": 7,
   "id": "94f47b46",
   "metadata": {},
   "outputs": [],
   "source": [
    "a = 100\n",
    "b = 200\n",
    "\n",
    "if a > b: # this block will not be executed cuz statement is false\n",
    "    print(\"a is less than b\")\n",
    "    print(\"Hello A\")\n",
    "    print(\"Hello B\")"
   ]
  },
  {
   "cell_type": "code",
   "execution_count": null,
   "id": "6aa9394f",
   "metadata": {},
   "outputs": [],
   "source": []
  }
 ],
 "metadata": {
  "kernelspec": {
   "display_name": "Python 3 (ipykernel)",
   "language": "python",
   "name": "python3"
  },
  "language_info": {
   "codemirror_mode": {
    "name": "ipython",
    "version": 3
   },
   "file_extension": ".py",
   "mimetype": "text/x-python",
   "name": "python",
   "nbconvert_exporter": "python",
   "pygments_lexer": "ipython3",
   "version": "3.9.7"
  }
 },
 "nbformat": 4,
 "nbformat_minor": 5
}
