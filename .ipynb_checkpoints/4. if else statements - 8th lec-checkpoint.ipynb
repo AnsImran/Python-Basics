{
 "cells": [
  {
   "cell_type": "code",
   "execution_count": 1,
   "id": "0ca18eba",
   "metadata": {},
   "outputs": [
    {
     "name": "stdout",
     "output_type": "stream",
     "text": [
      "hi\n"
     ]
    }
   ],
   "source": [
    "'''\n",
    "see chapters 9 - 13 for more details\n",
    "- A smarter way to learn pyhton\n",
    "'''\n",
    "\n",
    "'''\n",
    "Following operators are used for comparisons and are called comparison operators\n",
    "\n",
    "== : is equal to\n",
    "\n",
    "!= : is not equal to\n",
    "\n",
    ">  : is greater than\n",
    "\n",
    "<  : is less than\n",
    "\n",
    ">= : is greater than or equal to\n",
    "\n",
    "<= : is smaller than or equal to\n",
    "\n",
    "'''\n",
    "\n",
    "print('hi')"
   ]
  },
  {
   "cell_type": "code",
   "execution_count": 2,
   "id": "aacf7931",
   "metadata": {},
   "outputs": [
    {
     "name": "stdout",
     "output_type": "stream",
     "text": [
      "Hello python\n"
     ]
    }
   ],
   "source": [
    "a = 100\n",
    "b = 200\n",
    "\n",
    "if a > b:\n",
    "    print(\"a is greater than b\")\n",
    "    print(\"Hello A\")\n",
    "    print(\"Hello B\")\n",
    "print(\"Hello python\") # 'Hello python' was printed because it was not inside the block\n",
    "                      # of 'if' statement. It was not inside the block of \n",
    "                      # if statement, because it was not under the same indentation\n",
    "                      # as the indentation of previous three print() functions"
   ]
  },
  {
   "cell_type": "code",
   "execution_count": 1,
   "id": "3282613f",
   "metadata": {},
   "outputs": [
    {
     "name": "stdout",
     "output_type": "stream",
     "text": [
      "a is less than b\n",
      "Hello A\n",
      "Hello B\n",
      "hello oye\n"
     ]
    }
   ],
   "source": [
    "a = 100\n",
    "b = 200\n",
    "\n",
    "if a < b:\n",
    "    print(\"a is less than b\")\n",
    "    print(\"Hello A\")\n",
    "    print(\"Hello B\")\n",
    "print(\"hello oye\")"
   ]
  },
  {
   "cell_type": "code",
   "execution_count": 3,
   "id": "94f47b46",
   "metadata": {},
   "outputs": [],
   "source": [
    "a = 100\n",
    "b = 200\n",
    "\n",
    "if a > b: # this block will not be executed cuz statement is false\n",
    "    print(\"a is less than b\")\n",
    "    print(\"Hello A\")\n",
    "    print(\"Hello B\")"
   ]
  },
  {
   "cell_type": "code",
   "execution_count": 4,
   "id": "6aa9394f",
   "metadata": {},
   "outputs": [
    {
     "name": "stdout",
     "output_type": "stream",
     "text": [
      "a = b\n"
     ]
    }
   ],
   "source": [
    "a = 100\n",
    "b = 100\n",
    "\n",
    "if a == b: \n",
    "    print(\"a = b\")\n",
    "  "
   ]
  },
  {
   "cell_type": "code",
   "execution_count": 11,
   "id": "e29847d6",
   "metadata": {},
   "outputs": [
    {
     "name": "stdout",
     "output_type": "stream",
     "text": [
      "a = b\n"
     ]
    }
   ],
   "source": [
    "a = \"100\"\n",
    "b = \"100\"\n",
    "\n",
    "if a == b: # comparing two string values\n",
    "    print(\"a = b\")\n",
    "  "
   ]
  },
  {
   "cell_type": "code",
   "execution_count": 13,
   "id": "9f4ecada",
   "metadata": {},
   "outputs": [
    {
     "name": "stdout",
     "output_type": "stream",
     "text": [
      "a = b\n"
     ]
    }
   ],
   "source": [
    "a = \"100\"\n",
    "\n",
    "\n",
    "if a == '100': # the upper commas are necessary if 100 is defines as a string value\n",
    "    print(\"a = b\")\n",
    "  "
   ]
  },
  {
   "cell_type": "code",
   "execution_count": 5,
   "id": "0a1e3f9a",
   "metadata": {},
   "outputs": [
    {
     "ename": "NameError",
     "evalue": "name 'hello' is not defined",
     "output_type": "error",
     "traceback": [
      "\u001b[1;31m---------------------------------------------------------------------------\u001b[0m",
      "\u001b[1;31mNameError\u001b[0m                                 Traceback (most recent call last)",
      "\u001b[1;32mC:\\Users\\ANSIMR~1\\AppData\\Local\\Temp/ipykernel_9956/4158644686.py\u001b[0m in \u001b[0;36m<module>\u001b[1;34m\u001b[0m\n\u001b[0;32m      1\u001b[0m \u001b[0ma\u001b[0m \u001b[1;33m=\u001b[0m \u001b[1;34m\"hello\"\u001b[0m\u001b[1;33m\u001b[0m\u001b[1;33m\u001b[0m\u001b[0m\n\u001b[0;32m      2\u001b[0m \u001b[1;33m\u001b[0m\u001b[0m\n\u001b[1;32m----> 3\u001b[1;33m \u001b[1;32mif\u001b[0m \u001b[0ma\u001b[0m \u001b[1;33m==\u001b[0m \u001b[0mhello\u001b[0m\u001b[1;33m:\u001b[0m\u001b[1;33m\u001b[0m\u001b[1;33m\u001b[0m\u001b[0m\n\u001b[0m\u001b[0;32m      4\u001b[0m     \u001b[0mprint\u001b[0m\u001b[1;33m(\u001b[0m\u001b[1;34m\"a = b\"\u001b[0m\u001b[1;33m)\u001b[0m\u001b[1;33m\u001b[0m\u001b[1;33m\u001b[0m\u001b[0m\n\u001b[0;32m      5\u001b[0m \u001b[1;33m\u001b[0m\u001b[0m\n",
      "\u001b[1;31mNameError\u001b[0m: name 'hello' is not defined"
     ]
    }
   ],
   "source": [
    "a = \"hello\"\n",
    "\n",
    "if a == hello: \n",
    "    print(\"a = b\")\n",
    "  "
   ]
  },
  {
   "cell_type": "code",
   "execution_count": 6,
   "id": "849d0043",
   "metadata": {},
   "outputs": [
    {
     "name": "stdout",
     "output_type": "stream",
     "text": [
      "a = b\n"
     ]
    }
   ],
   "source": [
    "a = \"hello\"\n",
    "\n",
    "if a == 'hello': \n",
    "    print(\"a = b\")\n",
    "  "
   ]
  },
  {
   "cell_type": "code",
   "execution_count": 21,
   "id": "a8d4fe16",
   "metadata": {},
   "outputs": [
    {
     "name": "stdout",
     "output_type": "stream",
     "text": [
      "1st species is not cat\n",
      "2nd species is cat\n"
     ]
    }
   ],
   "source": [
    "species_1 = 'bird'\n",
    "\n",
    "species_2 = 'cat'\n",
    "\n",
    "\n",
    "\n",
    "if species_1 == 'cat':\n",
    "    print('1st species is cat')\n",
    "else:\n",
    "    print('1st species is not cat')\n",
    "    \n",
    "    \n",
    "if species_2 == 'cat':\n",
    "    print('2nd species is cat')\n",
    "else:\n",
    "    print('2nd species is not cat')"
   ]
  },
  {
   "cell_type": "code",
   "execution_count": 27,
   "id": "057bcfba",
   "metadata": {},
   "outputs": [
    {
     "name": "stdout",
     "output_type": "stream",
     "text": [
      "10\n"
     ]
    }
   ],
   "source": [
    "# pg = 40\n",
    "\n",
    "\n",
    "donut_condition = 'fresh' #it is fresh, it won't execute elif. So, score will be 10\n",
    "donut_price = 'low'\n",
    "buy_score = 0\n",
    "\n",
    "\n",
    "if  donut_condition == 'fresh':\n",
    "    buy_score = 10\n",
    "elif donut_price == 'low':\n",
    "    buy_score = 5\n",
    "else:\n",
    "    buy_score = 0\n",
    "    \n",
    "\n",
    "print(buy_score)"
   ]
  },
  {
   "cell_type": "code",
   "execution_count": 28,
   "id": "164fc7bb",
   "metadata": {},
   "outputs": [
    {
     "name": "stdout",
     "output_type": "stream",
     "text": [
      "5\n"
     ]
    }
   ],
   "source": [
    "# pg = 40\n",
    "\n",
    "\n",
    "donut_condition = 'not fresh' #it is not fresh, it'll go to elif. So, score will be 5\n",
    "donut_price = 'low'\n",
    "buy_score = 0\n",
    "\n",
    "\n",
    "if  donut_condition == 'fresh':\n",
    "    buy_score += 10               # here I used +=   intead of     =\n",
    "elif donut_price == 'low':\n",
    "    buy_score += 5\n",
    "else:\n",
    "    buy_score = 0\n",
    "    \n",
    "\n",
    "print(buy_score)"
   ]
  },
  {
   "cell_type": "code",
   "execution_count": 33,
   "id": "e9dad2c4",
   "metadata": {},
   "outputs": [
    {
     "name": "stdout",
     "output_type": "stream",
     "text": [
      "13\n"
     ]
    }
   ],
   "source": [
    "# pg = 40\n",
    "\n",
    "\n",
    "donut_condition = 'fresh'\n",
    "donut_price = 'high'\n",
    "donut_filling = 'chocolate'\n",
    "buy_score = 0\n",
    "\n",
    "\n",
    "if  donut_condition == 'fresh':\n",
    "    buy_score = +10\n",
    "if donut_price == 'low':\n",
    "    buy_score += 5\n",
    "if donut_filling == 'chocolate':\n",
    "    buy_score += 3   \n",
    "else:\n",
    "    buy_score = 0\n",
    "    \n",
    "\n",
    "print(buy_score)"
   ]
  },
  {
   "cell_type": "code",
   "execution_count": null,
   "id": "cc3f51c2",
   "metadata": {},
   "outputs": [],
   "source": [
    "'''\n",
    "see the chapter 12 for \n",
    "    \n",
    "    multiple conditions within a single if statement \n",
    "    \n",
    "    nested if statements\n",
    "    \n",
    "'''"
   ]
  },
  {
   "cell_type": "code",
   "execution_count": null,
   "id": "c3e975d8",
   "metadata": {},
   "outputs": [],
   "source": []
  }
 ],
 "metadata": {
  "kernelspec": {
   "display_name": "Python 3 (ipykernel)",
   "language": "python",
   "name": "python3"
  },
  "language_info": {
   "codemirror_mode": {
    "name": "ipython",
    "version": 3
   },
   "file_extension": ".py",
   "mimetype": "text/x-python",
   "name": "python",
   "nbconvert_exporter": "python",
   "pygments_lexer": "ipython3",
   "version": "3.9.7"
  }
 },
 "nbformat": 4,
 "nbformat_minor": 5
}
