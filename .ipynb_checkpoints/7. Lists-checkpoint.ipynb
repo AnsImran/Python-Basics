{
 "cells": [
  {
   "cell_type": "code",
   "execution_count": 1,
   "id": "fc95f389",
   "metadata": {},
   "outputs": [],
   "source": [
    "'''\n",
    "A lot about Lists\n",
    "\n",
    "\n",
    "For more details please see\n",
    "\n",
    "chapters 15  -  19\n",
    "\n",
    "- A smarter Way to Learn Python\n",
    "\n",
    "Taking Slices from a list: ch 17\n",
    "\n",
    "\n",
    "'''"
   ]
  },
  {
   "cell_type": "code",
   "execution_count": 4,
   "id": "52a8e2a3",
   "metadata": {},
   "outputs": [],
   "source": [
    "alist = ['Ans', 'Ali', \"faisal\"]\n",
    "#index     0      1       2  "
   ]
  },
  {
   "cell_type": "code",
   "execution_count": 3,
   "id": "0628a70c",
   "metadata": {},
   "outputs": [
    {
     "data": {
      "text/plain": [
       "['Ans', 'Ali', 'faisal']"
      ]
     },
     "execution_count": 3,
     "metadata": {},
     "output_type": "execute_result"
    }
   ],
   "source": [
    "alist"
   ]
  },
  {
   "cell_type": "code",
   "execution_count": 85,
   "id": "3877f697",
   "metadata": {},
   "outputs": [],
   "source": [
    "# You can either use method 1\n",
    "\n",
    "city1 = 'Karachi'\n",
    "city2 = 'Multan'\n",
    "city3 = 'Lahore'\n",
    "city4 = 'Quetta'\n",
    "\n",
    "# Otherwise you can also method 2, in order to save the names of cities\n",
    "\n",
    "cities = ['Karachi', 'Multan', 'Lahore', 'Quetta']\n",
    "\n",
    "# clear method 2, which uses a list to store the data, is better"
   ]
  },
  {
   "cell_type": "code",
   "execution_count": 8,
   "id": "ae37a35a",
   "metadata": {},
   "outputs": [],
   "source": [
    "# How to access the members of a List"
   ]
  },
  {
   "cell_type": "code",
   "execution_count": 9,
   "id": "b6ebf62e",
   "metadata": {},
   "outputs": [
    {
     "data": {
      "text/plain": [
       "'Ali'"
      ]
     },
     "execution_count": 9,
     "metadata": {},
     "output_type": "execute_result"
    }
   ],
   "source": [
    "alist[1]    # here '1' is the index number of the value of 'alist', which you want to access"
   ]
  },
  {
   "cell_type": "code",
   "execution_count": 13,
   "id": "9acb474a",
   "metadata": {},
   "outputs": [
    {
     "data": {
      "text/plain": [
       "'Quetta'"
      ]
     },
     "execution_count": 13,
     "metadata": {},
     "output_type": "execute_result"
    }
   ],
   "source": [
    "cities[3]"
   ]
  },
  {
   "cell_type": "code",
   "execution_count": 15,
   "id": "da0bf9fa",
   "metadata": {},
   "outputs": [],
   "source": [
    "fruits=[]   # A list of fruits"
   ]
  },
  {
   "cell_type": "code",
   "execution_count": 16,
   "id": "2b2a7f15",
   "metadata": {},
   "outputs": [
    {
     "data": {
      "text/plain": [
       "0"
      ]
     },
     "execution_count": 16,
     "metadata": {},
     "output_type": "execute_result"
    }
   ],
   "source": [
    "len(fruits) # this function gives you the length of the list 'fruits'"
   ]
  },
  {
   "cell_type": "code",
   "execution_count": 17,
   "id": "04290aa6",
   "metadata": {},
   "outputs": [
    {
     "data": {
      "text/plain": [
       "4"
      ]
     },
     "execution_count": 17,
     "metadata": {},
     "output_type": "execute_result"
    }
   ],
   "source": [
    "len(cities) # so, again this fn tells you how many members a given list has"
   ]
  },
  {
   "cell_type": "code",
   "execution_count": 18,
   "id": "a3dd37a5",
   "metadata": {},
   "outputs": [],
   "source": [
    "# Adding a member to the list {append,insert}"
   ]
  },
  {
   "cell_type": "code",
   "execution_count": 34,
   "id": "2d0f3043",
   "metadata": {},
   "outputs": [],
   "source": [
    "'''\n",
    "write 'fruits.' then press 'tab' now it will show you the list of all of the functions\n",
    "you can implement on the list 'fruits'. choose 'append'. Add brackets, because it\n",
    "is a function.\n",
    "Append always adds the new value at the end of the list\n",
    "'''\n",
    "\n",
    "fruits.append('apple')    "
   ]
  },
  {
   "cell_type": "code",
   "execution_count": 36,
   "id": "305ceea2",
   "metadata": {},
   "outputs": [
    {
     "data": {
      "text/plain": [
       "['apple', 'apple', 'apple', 'apple', 'apple', 'apple', 'apple']"
      ]
     },
     "execution_count": 36,
     "metadata": {},
     "output_type": "execute_result"
    }
   ],
   "source": [
    "fruits  # apple multiple times is liye likha hua aa rha hay, q k mn nay \n",
    "# ln 34 ko kafi bar execute kia tha, har dfa jab main osay execute krta tha\n",
    "# aik new apple add ho jata tha, at the end of list"
   ]
  },
  {
   "cell_type": "code",
   "execution_count": 37,
   "id": "5b3091e5",
   "metadata": {},
   "outputs": [],
   "source": [
    "fruits.append('orange')"
   ]
  },
  {
   "cell_type": "code",
   "execution_count": 38,
   "id": "2eccd2ca",
   "metadata": {},
   "outputs": [
    {
     "data": {
      "text/plain": [
       "['apple', 'apple', 'apple', 'apple', 'apple', 'apple', 'apple', 'orange']"
      ]
     },
     "execution_count": 38,
     "metadata": {},
     "output_type": "execute_result"
    }
   ],
   "source": [
    "fruits"
   ]
  },
  {
   "cell_type": "code",
   "execution_count": 40,
   "id": "35db8a80",
   "metadata": {},
   "outputs": [],
   "source": [
    "fruits.insert(0,'peach') \n",
    "\n",
    "# method 2 to add a member to a list\n",
    "# the first place takes input the index# where u want to add a new member\n",
    "# the second input takes input the member"
   ]
  },
  {
   "cell_type": "code",
   "execution_count": 41,
   "id": "a3ca5810",
   "metadata": {},
   "outputs": [
    {
     "data": {
      "text/plain": [
       "['peach',\n",
       " 'apple',\n",
       " 'apple',\n",
       " 'apple',\n",
       " 'apple',\n",
       " 'apple',\n",
       " 'apple',\n",
       " 'apple',\n",
       " 'orange']"
      ]
     },
     "execution_count": 41,
     "metadata": {},
     "output_type": "execute_result"
    }
   ],
   "source": [
    "fruits"
   ]
  },
  {
   "cell_type": "code",
   "execution_count": 42,
   "id": "55f4ace3",
   "metadata": {},
   "outputs": [],
   "source": [
    "fruits.extend(['mango', 'cherry', 'blueberry'])\n",
    "\n",
    "# it can be used to add multiple members at the same time\n",
    "# the new members, are added to the end of the list"
   ]
  },
  {
   "cell_type": "code",
   "execution_count": 43,
   "id": "09dd00b9",
   "metadata": {},
   "outputs": [
    {
     "data": {
      "text/plain": [
       "['peach',\n",
       " 'apple',\n",
       " 'apple',\n",
       " 'apple',\n",
       " 'apple',\n",
       " 'apple',\n",
       " 'apple',\n",
       " 'apple',\n",
       " 'orange',\n",
       " 'mango',\n",
       " 'cherry',\n",
       " 'blueberry']"
      ]
     },
     "execution_count": 43,
     "metadata": {},
     "output_type": "execute_result"
    }
   ],
   "source": [
    "fruits"
   ]
  },
  {
   "cell_type": "code",
   "execution_count": 44,
   "id": "02b30191",
   "metadata": {},
   "outputs": [
    {
     "data": {
      "text/plain": [
       "7"
      ]
     },
     "execution_count": 44,
     "metadata": {},
     "output_type": "execute_result"
    }
   ],
   "source": [
    "fruits.count('apple')\n",
    "\n",
    "# tells you the frequesncy of a given member"
   ]
  },
  {
   "cell_type": "code",
   "execution_count": 50,
   "id": "66c60ff6",
   "metadata": {},
   "outputs": [
    {
     "data": {
      "text/plain": [
       "1"
      ]
     },
     "execution_count": 50,
     "metadata": {},
     "output_type": "execute_result"
    }
   ],
   "source": [
    "fruits.index('apple') # tells you the index# at which the given value appears \n",
    "# for the first time"
   ]
  },
  {
   "cell_type": "code",
   "execution_count": 53,
   "id": "e3cb53b6",
   "metadata": {},
   "outputs": [],
   "source": [
    "fruits.clear()\n",
    "\n",
    "#if u run this function on a list, then it permanently removes all of the\n",
    "#members of that list, they cannot be recovered"
   ]
  },
  {
   "cell_type": "code",
   "execution_count": 54,
   "id": "080e86da",
   "metadata": {},
   "outputs": [
    {
     "data": {
      "text/plain": [
       "[]"
      ]
     },
     "execution_count": 54,
     "metadata": {},
     "output_type": "execute_result"
    }
   ],
   "source": [
    "fruits"
   ]
  },
  {
   "cell_type": "code",
   "execution_count": 55,
   "id": "2592e304",
   "metadata": {},
   "outputs": [],
   "source": [
    "fruits = ['peach',\n",
    " 'apple',\n",
    " 'apple',\n",
    " 'orange',\n",
    " 'mango',\n",
    " 'cherry',\n",
    " 'blueberry']"
   ]
  },
  {
   "cell_type": "code",
   "execution_count": 56,
   "id": "9e7f6105",
   "metadata": {},
   "outputs": [
    {
     "data": {
      "text/plain": [
       "['peach', 'apple', 'apple', 'orange', 'mango', 'cherry', 'blueberry']"
      ]
     },
     "execution_count": 56,
     "metadata": {},
     "output_type": "execute_result"
    }
   ],
   "source": [
    "fruits"
   ]
  },
  {
   "cell_type": "code",
   "execution_count": 57,
   "id": "31340dc9",
   "metadata": {},
   "outputs": [],
   "source": [
    "fruits2 = fruits.copy()\n",
    "\n",
    "# it'll copy all of the elements of the list 'fruits' to the list 'fruits2'\n",
    "\n",
    "# it copies by value"
   ]
  },
  {
   "cell_type": "code",
   "execution_count": 58,
   "id": "cf6d6af3",
   "metadata": {},
   "outputs": [
    {
     "data": {
      "text/plain": [
       "['peach', 'apple', 'apple', 'orange', 'mango', 'cherry', 'blueberry']"
      ]
     },
     "execution_count": 58,
     "metadata": {},
     "output_type": "execute_result"
    }
   ],
   "source": [
    "fruits2"
   ]
  },
  {
   "cell_type": "code",
   "execution_count": 62,
   "id": "2c2106d3",
   "metadata": {},
   "outputs": [],
   "source": [
    "fruits3 = fruits\n",
    "\n",
    "# it copies by reference\n",
    "\n",
    "# if you copy using this method, then\n",
    "\n",
    "# a new list is not created\n",
    "\n",
    "# a new variable list is created i.e. fruits3\n",
    "\n",
    "# both 'fruits' and 'fruits3' are pointing towards the same list i.e. both have\n",
    "#pointers at the same list\n",
    "\n",
    "#  now if u make a change in either one of them, the change will be reflected in both of them\n"
   ]
  },
  {
   "cell_type": "code",
   "execution_count": 60,
   "id": "922e55d9",
   "metadata": {},
   "outputs": [
    {
     "data": {
      "text/plain": [
       "['peach', 'apple', 'apple', 'orange', 'mango', 'cherry', 'blueberry']"
      ]
     },
     "execution_count": 60,
     "metadata": {},
     "output_type": "execute_result"
    }
   ],
   "source": [
    "fruits3"
   ]
  },
  {
   "cell_type": "code",
   "execution_count": 63,
   "id": "3dff4d05",
   "metadata": {},
   "outputs": [
    {
     "data": {
      "text/plain": [
       "['peach',\n",
       " 'apple',\n",
       " 'apple',\n",
       " 'orange',\n",
       " 'mango',\n",
       " 'cherry',\n",
       " 'blueberry',\n",
       " 'newfruit']"
      ]
     },
     "execution_count": 63,
     "metadata": {},
     "output_type": "execute_result"
    }
   ],
   "source": [
    "fruits.append('newfruit')\n",
    "fruits3"
   ]
  },
  {
   "cell_type": "code",
   "execution_count": 68,
   "id": "7b348ba1",
   "metadata": {},
   "outputs": [
    {
     "data": {
      "text/plain": [
       "\" so in above line it can be seen that although we made a change only in \\n 'fruits', the change was also reflected in 'fruits3' \\n  because fruits3 was copied by reference and NOT by value \\n\""
      ]
     },
     "execution_count": 68,
     "metadata": {},
     "output_type": "execute_result"
    }
   ],
   "source": [
    "''' so in above line it can be seen that although we made a change only in \n",
    " 'fruits', the change was also reflected in 'fruits3' \n",
    "  because fruits3 was copied by reference and NOT by value \n",
    "'''"
   ]
  },
  {
   "cell_type": "code",
   "execution_count": 69,
   "id": "58f6bb31",
   "metadata": {},
   "outputs": [
    {
     "data": {
      "text/plain": [
       "['peach', 'apple', 'apple', 'orange', 'mango', 'cherry', 'blueberry']"
      ]
     },
     "execution_count": 69,
     "metadata": {},
     "output_type": "execute_result"
    }
   ],
   "source": [
    "fruits2\n",
    "\n",
    "# pass by value vs pass by reference in action\n",
    "\n",
    "# changes made in 'fruits' have not effected the 'fruits2' because it was copied\n",
    "\n",
    "# by value and NOT by reference"
   ]
  },
  {
   "cell_type": "code",
   "execution_count": 70,
   "id": "78ac1287",
   "metadata": {},
   "outputs": [],
   "source": [
    "# removing an item from a list {del, remove, pop}"
   ]
  },
  {
   "cell_type": "code",
   "execution_count": 71,
   "id": "1b3f19bf",
   "metadata": {},
   "outputs": [
    {
     "data": {
      "text/plain": [
       "['peach', 'apple', 'orange', 'mango', 'cherry', 'blueberry', 'newfruit']"
      ]
     },
     "execution_count": 71,
     "metadata": {},
     "output_type": "execute_result"
    }
   ],
   "source": [
    "del fruits[2]     # it's not a function, it's a statement. It permanently deletes\n",
    "\n",
    "fruits"
   ]
  },
  {
   "cell_type": "code",
   "execution_count": 72,
   "id": "71880745",
   "metadata": {},
   "outputs": [],
   "source": [
    "# the 3rd apple was  removed"
   ]
  },
  {
   "cell_type": "code",
   "execution_count": 74,
   "id": "5eb74c20",
   "metadata": {},
   "outputs": [],
   "source": [
    "fruits.remove('apple')\n",
    "\n",
    "# the removed values cannot be recovered"
   ]
  },
  {
   "cell_type": "code",
   "execution_count": 75,
   "id": "1f1c7f63",
   "metadata": {},
   "outputs": [
    {
     "data": {
      "text/plain": [
       "['peach', 'orange', 'mango', 'cherry', 'blueberry', 'newfruit']"
      ]
     },
     "execution_count": 75,
     "metadata": {},
     "output_type": "execute_result"
    }
   ],
   "source": [
    "fruits"
   ]
  },
  {
   "cell_type": "code",
   "execution_count": 76,
   "id": "659822e1",
   "metadata": {},
   "outputs": [],
   "source": [
    "# so apple has been removed from the lsit"
   ]
  },
  {
   "cell_type": "code",
   "execution_count": 77,
   "id": "09f4ed2e",
   "metadata": {},
   "outputs": [
    {
     "data": {
      "text/plain": [
       "['peach', 'apple', 'apple', 'orange', 'mango', 'cherry', 'blueberry']"
      ]
     },
     "execution_count": 77,
     "metadata": {},
     "output_type": "execute_result"
    }
   ],
   "source": [
    "fruits2"
   ]
  },
  {
   "cell_type": "code",
   "execution_count": 78,
   "id": "908ac33c",
   "metadata": {},
   "outputs": [],
   "source": [
    "fruits2.remove('apple')"
   ]
  },
  {
   "cell_type": "code",
   "execution_count": 79,
   "id": "82f91f7f",
   "metadata": {},
   "outputs": [
    {
     "data": {
      "text/plain": [
       "['peach', 'apple', 'orange', 'mango', 'cherry', 'blueberry']"
      ]
     },
     "execution_count": 79,
     "metadata": {},
     "output_type": "execute_result"
    }
   ],
   "source": [
    "fruits2"
   ]
  },
  {
   "cell_type": "code",
   "execution_count": 80,
   "id": "eefd3a8b",
   "metadata": {},
   "outputs": [],
   "source": [
    "# so it does not removes all of the values named as apples"
   ]
  },
  {
   "cell_type": "code",
   "execution_count": 82,
   "id": "80e74582",
   "metadata": {},
   "outputs": [
    {
     "data": {
      "text/plain": [
       "['Karachi', 'Multan', 'Lahore', 'Quetta']"
      ]
     },
     "execution_count": 82,
     "metadata": {},
     "output_type": "execute_result"
    }
   ],
   "source": [
    "cities"
   ]
  },
  {
   "cell_type": "code",
   "execution_count": 86,
   "id": "615054ec",
   "metadata": {},
   "outputs": [
    {
     "name": "stdout",
     "output_type": "stream",
     "text": [
      "this city is popped from list: Quetta\n",
      "the remaining cities are ['Karachi', 'Multan', 'Lahore']\n"
     ]
    }
   ],
   "source": [
    "poppedCity = cities.pop()\n",
    "\n",
    "print(f\"this city is popped from the list: {poppedCity}\")\n",
    "print(f\"the remaining cities are {cities}\")"
   ]
  },
  {
   "cell_type": "code",
   "execution_count": 87,
   "id": "7250ce73",
   "metadata": {},
   "outputs": [],
   "source": [
    "# so the pop function removes the last city from the list. like stack \"last in first out\"\n",
    "# jo sab say last mn in hua hoga, vo sab say pehlay remove hoga\n",
    "\n",
    "# at the same time you can also save the value somewhere else"
   ]
  },
  {
   "cell_type": "code",
   "execution_count": 88,
   "id": "213fe4f0",
   "metadata": {},
   "outputs": [
    {
     "name": "stdout",
     "output_type": "stream",
     "text": [
      "this city is popped from list: Lahore\n",
      "the remaining cities are ['Karachi', 'Multan']\n"
     ]
    }
   ],
   "source": [
    "poppedCity = cities.pop()\n",
    "\n",
    "print(f\"this city is popped from list: {poppedCity}\")\n",
    "print(f\"the remaining cities are {cities}\")"
   ]
  },
  {
   "cell_type": "code",
   "execution_count": 89,
   "id": "e3980924",
   "metadata": {},
   "outputs": [
    {
     "name": "stdout",
     "output_type": "stream",
     "text": [
      "this city is popped from list: Multan\n",
      "the remaining cities are ['Karachi']\n"
     ]
    }
   ],
   "source": [
    "poppedCity = cities.pop()\n",
    "\n",
    "print(f\"this city is popped from list: {poppedCity}\")\n",
    "print(f\"the remaining cities are {cities}\")"
   ]
  },
  {
   "cell_type": "code",
   "execution_count": 90,
   "id": "6530ee6c",
   "metadata": {},
   "outputs": [
    {
     "name": "stdout",
     "output_type": "stream",
     "text": [
      "this city is popped from list: Karachi\n",
      "the remaining cities are []\n"
     ]
    }
   ],
   "source": [
    "poppedCity = cities.pop()\n",
    "\n",
    "print(f\"this city is popped from list: {poppedCity}\")\n",
    "print(f\"the remaining cities are {cities}\")"
   ]
  },
  {
   "cell_type": "code",
   "execution_count": 91,
   "id": "90c1fd1e",
   "metadata": {},
   "outputs": [
    {
     "ename": "IndexError",
     "evalue": "pop from empty list",
     "output_type": "error",
     "traceback": [
      "\u001b[1;31m---------------------------------------------------------------------------\u001b[0m",
      "\u001b[1;31mIndexError\u001b[0m                                Traceback (most recent call last)",
      "\u001b[1;32mC:\\Users\\ANSIMR~1\\AppData\\Local\\Temp/ipykernel_9452/3877507021.py\u001b[0m in \u001b[0;36m<module>\u001b[1;34m\u001b[0m\n\u001b[1;32m----> 1\u001b[1;33m \u001b[0mpoppedCity\u001b[0m \u001b[1;33m=\u001b[0m \u001b[0mcities\u001b[0m\u001b[1;33m.\u001b[0m\u001b[0mpop\u001b[0m\u001b[1;33m(\u001b[0m\u001b[1;33m)\u001b[0m\u001b[1;33m\u001b[0m\u001b[1;33m\u001b[0m\u001b[0m\n\u001b[0m\u001b[0;32m      2\u001b[0m \u001b[1;33m\u001b[0m\u001b[0m\n\u001b[0;32m      3\u001b[0m \u001b[0mprint\u001b[0m\u001b[1;33m(\u001b[0m\u001b[1;34mf\"this city is popped from list: {poppedCity}\"\u001b[0m\u001b[1;33m)\u001b[0m\u001b[1;33m\u001b[0m\u001b[1;33m\u001b[0m\u001b[0m\n\u001b[0;32m      4\u001b[0m \u001b[0mprint\u001b[0m\u001b[1;33m(\u001b[0m\u001b[1;34mf\"the remaining cities are {cities}\"\u001b[0m\u001b[1;33m)\u001b[0m\u001b[1;33m\u001b[0m\u001b[1;33m\u001b[0m\u001b[0m\n",
      "\u001b[1;31mIndexError\u001b[0m: pop from empty list"
     ]
    }
   ],
   "source": [
    "poppedCity = cities.pop()\n",
    "\n",
    "print(f\"this city is popped from list: {poppedCity}\")\n",
    "print(f\"the remaining cities are {cities}\")"
   ]
  },
  {
   "cell_type": "code",
   "execution_count": 92,
   "id": "809d351a",
   "metadata": {},
   "outputs": [],
   "source": [
    "cities = ['Karachi', 'Multan', 'Lahore', 'Quetta']"
   ]
  },
  {
   "cell_type": "code",
   "execution_count": 93,
   "id": "72a81fe5",
   "metadata": {},
   "outputs": [
    {
     "name": "stdout",
     "output_type": "stream",
     "text": [
      "this city is popped from list: Lahore\n",
      "the remaining cities are ['Karachi', 'Multan', 'Quetta']\n"
     ]
    }
   ],
   "source": [
    "poppedCity = cities.pop(2) # so, if u pass it an index as an argument, it can\n",
    "                           # pop that specific index\n",
    "\n",
    "print(f\"this city is popped from list: {poppedCity}\")\n",
    "print(f\"the remaining cities are {cities}\")"
   ]
  },
  {
   "cell_type": "code",
   "execution_count": 95,
   "id": "ee2f7608",
   "metadata": {},
   "outputs": [],
   "source": [
    "cities.sort()\n",
    "\n",
    "# it'll alphabatically sort the cities, in ascending order"
   ]
  },
  {
   "cell_type": "code",
   "execution_count": 96,
   "id": "684ec5ed",
   "metadata": {},
   "outputs": [
    {
     "data": {
      "text/plain": [
       "['Karachi', 'Multan', 'Quetta']"
      ]
     },
     "execution_count": 96,
     "metadata": {},
     "output_type": "execute_result"
    }
   ],
   "source": [
    "cities"
   ]
  },
  {
   "cell_type": "code",
   "execution_count": 97,
   "id": "9067ac14",
   "metadata": {},
   "outputs": [
    {
     "data": {
      "text/plain": [
       "['Quetta', 'Multan', 'Karachi']"
      ]
     },
     "execution_count": 97,
     "metadata": {},
     "output_type": "execute_result"
    }
   ],
   "source": [
    "cities.sort(reverse = True) #now it'll sort the citites in descending order\n",
    "                            # see lec #12 AI - List in practice 29 min for more details\n",
    "cities"
   ]
  },
  {
   "cell_type": "code",
   "execution_count": 102,
   "id": "99d716ff",
   "metadata": {},
   "outputs": [],
   "source": [
    "cities.reverse() \n",
    "\n",
    "#sorting does not matter for this function, it simply reverses all of the members"
   ]
  },
  {
   "cell_type": "code",
   "execution_count": 103,
   "id": "cf11bae7",
   "metadata": {},
   "outputs": [
    {
     "data": {
      "text/plain": [
       "['Karachi', 'Multan', 'Quetta']"
      ]
     },
     "execution_count": 103,
     "metadata": {},
     "output_type": "execute_result"
    }
   ],
   "source": [
    "cities"
   ]
  },
  {
   "cell_type": "markdown",
   "id": "026e6bf7",
   "metadata": {},
   "source": [
    "# Slicing\n",
    "\n",
    "# Slicing a list\n",
    "\n",
    "# it copies certain elements from a list"
   ]
  },
  {
   "cell_type": "code",
   "execution_count": 2,
   "id": "90a874e6",
   "metadata": {},
   "outputs": [],
   "source": [
    "list = [0,1,2,3,4,5,6,7,8,9,10]"
   ]
  },
  {
   "cell_type": "code",
   "execution_count": 3,
   "id": "fb2d3d1f",
   "metadata": {},
   "outputs": [
    {
     "data": {
      "text/plain": [
       "[0, 1, 2, 3, 4, 5, 6, 7, 8, 9, 10]"
      ]
     },
     "execution_count": 3,
     "metadata": {},
     "output_type": "execute_result"
    }
   ],
   "source": [
    "list"
   ]
  },
  {
   "cell_type": "code",
   "execution_count": 7,
   "id": "eae6c40b",
   "metadata": {},
   "outputs": [
    {
     "name": "stdout",
     "output_type": "stream",
     "text": [
      "[0, 1, 2, 3, 4, 5, 6, 7, 8, 9, 10]\n"
     ]
    }
   ],
   "source": [
    "print(list)"
   ]
  },
  {
   "cell_type": "code",
   "execution_count": 8,
   "id": "f1069404",
   "metadata": {},
   "outputs": [],
   "source": [
    "slist = []"
   ]
  },
  {
   "cell_type": "code",
   "execution_count": 9,
   "id": "cc0fef5f",
   "metadata": {},
   "outputs": [],
   "source": [
    "slist = list[2:5]"
   ]
  },
  {
   "cell_type": "code",
   "execution_count": 10,
   "id": "c1685b19",
   "metadata": {},
   "outputs": [
    {
     "data": {
      "text/plain": [
       "[2, 3, 4]"
      ]
     },
     "execution_count": 10,
     "metadata": {},
     "output_type": "execute_result"
    }
   ],
   "source": [
    "slist\n",
    "\n",
    "# so, it was like [2:5) i.e. index 2 was copied but index 5 was not copied"
   ]
  },
  {
   "cell_type": "code",
   "execution_count": 11,
   "id": "529c26eb",
   "metadata": {},
   "outputs": [
    {
     "data": {
      "text/plain": [
       "[0, 1, 2, 3, 4, 5, 6, 7, 8, 9, 10]"
      ]
     },
     "execution_count": 11,
     "metadata": {},
     "output_type": "execute_result"
    }
   ],
   "source": [
    "list\n",
    "\n",
    "# the original list is unchanged"
   ]
  },
  {
   "cell_type": "code",
   "execution_count": 14,
   "id": "2249ed17",
   "metadata": {},
   "outputs": [],
   "source": [
    "#index -11 -10  -9  -8  -7  -6  -5  -4  -3  -2  -1\n",
    "list = [0 ,  1 , 2 , 3 , 4 , 5 , 6 , 7 , 8 , 9 , 10]\n",
    "#index  0    1   2   3   4   5   6   7   8   9   10"
   ]
  },
  {
   "cell_type": "code",
   "execution_count": 17,
   "id": "037531f5",
   "metadata": {},
   "outputs": [
    {
     "data": {
      "text/plain": [
       "[7, 8]"
      ]
     },
     "execution_count": 17,
     "metadata": {},
     "output_type": "execute_result"
    }
   ],
   "source": [
    "list[-4:-2]"
   ]
  },
  {
   "cell_type": "code",
   "execution_count": 18,
   "id": "68118499",
   "metadata": {},
   "outputs": [
    {
     "data": {
      "text/plain": [
       "[2, 3, 4, 5, 6]"
      ]
     },
     "execution_count": 18,
     "metadata": {},
     "output_type": "execute_result"
    }
   ],
   "source": [
    "list[2:-4]"
   ]
  },
  {
   "cell_type": "code",
   "execution_count": 19,
   "id": "b5029806",
   "metadata": {},
   "outputs": [
    {
     "data": {
      "text/plain": [
       "[0, 1, 2, 3, 4, 5, 6, 7, 8, 9, 10]"
      ]
     },
     "execution_count": 19,
     "metadata": {},
     "output_type": "execute_result"
    }
   ],
   "source": [
    "list[:]"
   ]
  },
  {
   "cell_type": "code",
   "execution_count": 20,
   "id": "6d6d9c8e",
   "metadata": {},
   "outputs": [
    {
     "data": {
      "text/plain": [
       "[0, 1, 2, 3, 4, 5, 6, 7, 8, 9]"
      ]
     },
     "execution_count": 20,
     "metadata": {},
     "output_type": "execute_result"
    }
   ],
   "source": [
    "list[:10]"
   ]
  },
  {
   "cell_type": "code",
   "execution_count": 21,
   "id": "5087b71a",
   "metadata": {},
   "outputs": [
    {
     "data": {
      "text/plain": [
       "[1, 2, 3, 4, 5, 6, 7, 8, 9, 10]"
      ]
     },
     "execution_count": 21,
     "metadata": {},
     "output_type": "execute_result"
    }
   ],
   "source": [
    "list[1:]"
   ]
  },
  {
   "cell_type": "code",
   "execution_count": 24,
   "id": "c4a6d1e9",
   "metadata": {},
   "outputs": [
    {
     "data": {
      "text/plain": [
       "[]"
      ]
     },
     "execution_count": 24,
     "metadata": {},
     "output_type": "execute_result"
    }
   ],
   "source": [
    "list[2:-11]\n",
    "\n",
    "# it never works leftward"
   ]
  },
  {
   "cell_type": "code",
   "execution_count": 25,
   "id": "26a9f384",
   "metadata": {},
   "outputs": [],
   "source": [
    "#steps in slicing"
   ]
  },
  {
   "cell_type": "code",
   "execution_count": 26,
   "id": "3adcc7d7",
   "metadata": {},
   "outputs": [
    {
     "data": {
      "text/plain": [
       "[0, 1, 2, 3, 4, 5, 6, 7, 8, 9, 10]"
      ]
     },
     "execution_count": 26,
     "metadata": {},
     "output_type": "execute_result"
    }
   ],
   "source": [
    "list[0:11:1]"
   ]
  },
  {
   "cell_type": "code",
   "execution_count": 27,
   "id": "254aadcf",
   "metadata": {},
   "outputs": [
    {
     "data": {
      "text/plain": [
       "[0, 2, 4, 6, 8, 10]"
      ]
     },
     "execution_count": 27,
     "metadata": {},
     "output_type": "execute_result"
    }
   ],
   "source": [
    "list[0:11:2]"
   ]
  },
  {
   "cell_type": "code",
   "execution_count": 28,
   "id": "9378f23e",
   "metadata": {},
   "outputs": [
    {
     "data": {
      "text/plain": [
       "[0, 3, 6, 9]"
      ]
     },
     "execution_count": 28,
     "metadata": {},
     "output_type": "execute_result"
    }
   ],
   "source": [
    "list[0:11:3]"
   ]
  },
  {
   "cell_type": "code",
   "execution_count": 30,
   "id": "710413b2",
   "metadata": {},
   "outputs": [
    {
     "data": {
      "text/plain": [
       "[0, 2, 4, 6, 8, 10]"
      ]
     },
     "execution_count": 30,
     "metadata": {},
     "output_type": "execute_result"
    }
   ],
   "source": [
    "list[::2]\n",
    "\n",
    "#goes from begining to the end in steps of 2.\n",
    "# it will stand on '0' it'll take two steps and reach '2', now it'll take two more steps and reach '4' and so on.."
   ]
  },
  {
   "cell_type": "code",
   "execution_count": null,
   "id": "87fecce8",
   "metadata": {},
   "outputs": [],
   "source": []
  }
 ],
 "metadata": {
  "kernelspec": {
   "display_name": "Python 3 (ipykernel)",
   "language": "python",
   "name": "python3"
  },
  "language_info": {
   "codemirror_mode": {
    "name": "ipython",
    "version": 3
   },
   "file_extension": ".py",
   "mimetype": "text/x-python",
   "name": "python",
   "nbconvert_exporter": "python",
   "pygments_lexer": "ipython3",
   "version": "3.9.7"
  }
 },
 "nbformat": 4,
 "nbformat_minor": 5
}
