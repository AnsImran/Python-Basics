{
 "cells": [
  {
   "cell_type": "markdown",
   "id": "3471b301",
   "metadata": {},
   "source": [
    "\n",
    "# Nested for loops"
   ]
  },
  {
   "cell_type": "code",
   "execution_count": null,
   "id": "ad0b28b6",
   "metadata": {},
   "outputs": [],
   "source": [
    "'''\n",
    "see chapter 22\n",
    "'''"
   ]
  },
  {
   "cell_type": "code",
   "execution_count": 4,
   "id": "0885f753",
   "metadata": {},
   "outputs": [
    {
     "name": "stdout",
     "output_type": "stream",
     "text": [
      "Inner loop begins\n",
      "0 C\n",
      "0 h\n",
      "0 i\n",
      "0 n\n",
      "0 a\n",
      "Inner loop begins\n",
      "1 C\n",
      "1 h\n",
      "1 i\n",
      "1 n\n",
      "1 a\n",
      "Inner loop begins\n",
      "2 C\n",
      "2 h\n",
      "2 i\n",
      "2 n\n",
      "2 a\n",
      "Inner loop begins\n",
      "3 C\n",
      "3 h\n",
      "3 i\n",
      "3 n\n",
      "3 a\n",
      "Inner loop begins\n",
      "4 C\n",
      "4 h\n",
      "4 i\n",
      "4 n\n",
      "4 a\n"
     ]
    }
   ],
   "source": [
    "for a in range(5):\n",
    "    print(\"Inner loop begins\")\n",
    "    for char in \"China\":\n",
    "        print(a, char)"
   ]
  },
  {
   "cell_type": "code",
   "execution_count": 9,
   "id": "a5653ebb",
   "metadata": {},
   "outputs": [
    {
     "name": "stdout",
     "output_type": "stream",
     "text": [
      "Enter Table Number: 7\n",
      "7 * 1   =  7\n",
      "7 * 2   =  14\n",
      "7 * 3   =  21\n",
      "7 * 4   =  28\n",
      "7 * 5   =  35\n",
      "7 * 6   =  42\n",
      "7 * 7   =  49\n",
      "7 * 8   =  56\n",
      "7 * 9   =  63\n",
      "7 * 10   =  70\n"
     ]
    }
   ],
   "source": [
    "tableNumber = int(input('Enter Table Number: '))\n",
    "\n",
    "for a in range(1,11):\n",
    "    print(f\"{tableNumber} * {a}   =  {tableNumber*a}\")"
   ]
  },
  {
   "cell_type": "code",
   "execution_count": 37,
   "id": "646ea840",
   "metadata": {
    "scrolled": true
   },
   "outputs": [
    {
     "name": "stdout",
     "output_type": "stream",
     "text": [
      "Enter the no. of tables you want to print: 2\n",
      "Enter Table no. 1 that you want to print: 3\n",
      "Enter Table no. 2 that you want to print: 4\n",
      "3 * 1   =  3\n",
      "3 * 2   =  6\n",
      "3 * 3   =  9\n",
      "3 * 4   =  12\n",
      "3 * 5   =  15\n",
      "3 * 6   =  18\n",
      "3 * 7   =  21\n",
      "3 * 8   =  24\n",
      "3 * 9   =  27\n",
      "3 * 10   =  30\n",
      "\n",
      "\n",
      "4 * 1   =  4\n",
      "4 * 2   =  8\n",
      "4 * 3   =  12\n",
      "4 * 4   =  16\n",
      "4 * 5   =  20\n",
      "4 * 6   =  24\n",
      "4 * 7   =  28\n",
      "4 * 8   =  32\n",
      "4 * 9   =  36\n",
      "4 * 10   =  40\n",
      "\n",
      "\n"
     ]
    }
   ],
   "source": [
    "list =[]\n",
    "\n",
    "nTables = int(input('Enter the no. of tables you want to print: '))\n",
    "\n",
    "for a in range(nTables):\n",
    "    b = int(input(f'Enter Table no. {a +1} that you want to print: '))\n",
    "    list.insert(a,b)\n",
    "\n",
    "\n",
    "for table in range(nTables):\n",
    "    for a in range(1,11):\n",
    "        print(f\"{list[table]} * {a}   =  {list[table]*a}\")\n",
    "    print('\\n')"
   ]
  },
  {
   "cell_type": "code",
   "execution_count": 63,
   "id": "124b2db9",
   "metadata": {},
   "outputs": [
    {
     "name": "stdout",
     "output_type": "stream",
     "text": [
      "Enter table no. 1 that you want to print, otherwise enter no: 2\n",
      "Enter table no. 2 that you want to print, otherwise enter no: 0\n",
      "2 * 1   =  2\n",
      "2 * 2   =  4\n",
      "2 * 3   =  6\n",
      "2 * 4   =  8\n",
      "2 * 5   =  10\n",
      "2 * 6   =  12\n",
      "2 * 7   =  14\n",
      "2 * 8   =  16\n",
      "2 * 9   =  18\n",
      "2 * 10   =  20\n",
      "\n",
      "\n"
     ]
    }
   ],
   "source": [
    "list = []\n",
    "\n",
    "\n",
    "for a in range(10000):\n",
    "    b = int(input(f'Enter table no. {a+1} that you want to print, otherwise enter no: '))\n",
    "    if b == 0:\n",
    "        break\n",
    "    list.insert(a,b)\n",
    "\n",
    "    \n",
    "for table in range(len(list)):\n",
    "    for a in range(1,11):\n",
    "        print(f'{list[table]} * {a}   =  {list[table]*a}')\n",
    "    print('\\n')"
   ]
  },
  {
   "cell_type": "code",
   "execution_count": 10,
   "id": "0b3e5a12",
   "metadata": {},
   "outputs": [
    {
     "name": "stdout",
     "output_type": "stream",
     "text": [
      "Enter table no. 2 that you want to print, otherwise enter no: 2\n",
      "Enter table no. 3 that you want to print, otherwise enter no: 3\n",
      "Enter table no. 4 that you want to print, otherwise enter no: 4\n",
      "Enter table no. 5 that you want to print, otherwise enter no: 0\n",
      "2 * 1 \t  = \t 2\n",
      "2 * 2 \t  = \t 4\n",
      "2 * 3 \t  = \t 6\n",
      "2 * 4 \t  = \t 8\n",
      "2 * 5 \t  = \t 10\n",
      "2 * 6 \t  = \t 12\n",
      "2 * 7 \t  = \t 14\n",
      "2 * 8 \t  = \t 16\n",
      "2 * 9 \t  = \t 18\n",
      "2 * 10 \t  = \t 20\n",
      "\n",
      "\n",
      "3 * 1 \t  = \t 3\n",
      "3 * 2 \t  = \t 6\n",
      "3 * 3 \t  = \t 9\n",
      "3 * 4 \t  = \t 12\n",
      "3 * 5 \t  = \t 15\n",
      "3 * 6 \t  = \t 18\n",
      "3 * 7 \t  = \t 21\n",
      "3 * 8 \t  = \t 24\n",
      "3 * 9 \t  = \t 27\n",
      "3 * 10 \t  = \t 30\n",
      "\n",
      "\n",
      "4 * 1 \t  = \t 4\n",
      "4 * 2 \t  = \t 8\n",
      "4 * 3 \t  = \t 12\n",
      "4 * 4 \t  = \t 16\n",
      "4 * 5 \t  = \t 20\n",
      "4 * 6 \t  = \t 24\n",
      "4 * 7 \t  = \t 28\n",
      "4 * 8 \t  = \t 32\n",
      "4 * 9 \t  = \t 36\n",
      "4 * 10 \t  = \t 40\n",
      "\n",
      "\n"
     ]
    }
   ],
   "source": [
    "list = []\n",
    "b = 1\n",
    "a = 0\n",
    "\n",
    "while b != 0:\n",
    "    a = a + 1\n",
    "    b = int(input(f'Enter table no. {b+1} that you want to print, otherwise enter no: '))\n",
    "    list.insert(a,b)\n",
    "\n",
    "c = len(list) - 1\n",
    "    \n",
    "for table in range(c):\n",
    "    for a in range(1,11):\n",
    "        print(f'{list[table]} * {a} \\t  = \\t {list[table]*a}')\n",
    "    print('\\n')"
   ]
  },
  {
   "cell_type": "code",
   "execution_count": null,
   "id": "1e51b53f",
   "metadata": {},
   "outputs": [],
   "source": []
  },
  {
   "cell_type": "code",
   "execution_count": null,
   "id": "35f9d70b",
   "metadata": {},
   "outputs": [],
   "source": []
  },
  {
   "cell_type": "code",
   "execution_count": null,
   "id": "78a41d9f",
   "metadata": {},
   "outputs": [],
   "source": []
  },
  {
   "cell_type": "code",
   "execution_count": null,
   "id": "8ac4f09b",
   "metadata": {},
   "outputs": [],
   "source": []
  },
  {
   "cell_type": "code",
   "execution_count": null,
   "id": "f30fa8e1",
   "metadata": {},
   "outputs": [],
   "source": []
  }
 ],
 "metadata": {
  "kernelspec": {
   "display_name": "Python 3 (ipykernel)",
   "language": "python",
   "name": "python3"
  },
  "language_info": {
   "codemirror_mode": {
    "name": "ipython",
    "version": 3
   },
   "file_extension": ".py",
   "mimetype": "text/x-python",
   "name": "python",
   "nbconvert_exporter": "python",
   "pygments_lexer": "ipython3",
   "version": "3.9.7"
  }
 },
 "nbformat": 4,
 "nbformat_minor": 5
}
