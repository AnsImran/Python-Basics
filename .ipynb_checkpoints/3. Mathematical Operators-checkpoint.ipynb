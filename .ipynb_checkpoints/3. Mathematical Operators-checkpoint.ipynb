{
 "cells": [
  {
   "cell_type": "code",
   "execution_count": 1,
   "id": "e9114c5e",
   "metadata": {},
   "outputs": [
    {
     "name": "stdout",
     "output_type": "stream",
     "text": [
      "47\n"
     ]
    }
   ],
   "source": [
    "# operators { + , - , * , / }\n",
    "\n",
    "print( 23 + 24) # u can use mathematicall operators directly inside print"
   ]
  },
  {
   "cell_type": "code",
   "execution_count": 2,
   "id": "b4d2086a",
   "metadata": {},
   "outputs": [
    {
     "name": "stdout",
     "output_type": "stream",
     "text": [
      "57\n"
     ]
    }
   ],
   "source": [
    "a = 23\n",
    "b = 34\n",
    "c = a + b\n",
    "print(c)"
   ]
  },
  {
   "cell_type": "code",
   "execution_count": 3,
   "id": "3fa33555",
   "metadata": {},
   "outputs": [
    {
     "name": "stdout",
     "output_type": "stream",
     "text": [
      "-0.5\n"
     ]
    }
   ],
   "source": [
    "v1 = 100\n",
    "v2 = 100.5\n",
    "\n",
    "sum = v1 - v2\n",
    "\n",
    "print(sum)"
   ]
  },
  {
   "cell_type": "code",
   "execution_count": 6,
   "id": "4c4be9df",
   "metadata": {},
   "outputs": [
    {
     "name": "stdout",
     "output_type": "stream",
     "text": [
      "1.0\n"
     ]
    }
   ],
   "source": [
    "v1 = 100\n",
    "v2 = 100\n",
    "\n",
    "sum = v1 / v2\n",
    "\n",
    "print(sum)   # answer is floating type, although v1 and v2 are integers,\n",
    "             # python by default does division in floating type"
   ]
  },
  {
   "cell_type": "code",
   "execution_count": 1,
   "id": "cade91fe",
   "metadata": {},
   "outputs": [
    {
     "name": "stdout",
     "output_type": "stream",
     "text": [
      "1\n"
     ]
    }
   ],
   "source": [
    "v1 = 100\n",
    "v2 = 100\n",
    "\n",
    "sum = v1 // v2\n",
    "\n",
    "print(sum)    #however if u use double slash // then the answer is in integer form\n",
    "\n",
    "              # double slash // will do integer division"
   ]
  },
  {
   "cell_type": "code",
   "execution_count": 2,
   "id": "76ca8c51",
   "metadata": {},
   "outputs": [
    {
     "name": "stdout",
     "output_type": "stream",
     "text": [
      "2022\n"
     ]
    }
   ],
   "source": [
    "a = \"20\"\n",
    "b = '22'\n",
    "\n",
    "print(a + b)  # because a and b contain string value, that's why + operator\n",
    "              # is not performing addition, rather it is performing concatenation"
   ]
  },
  {
   "cell_type": "code",
   "execution_count": null,
   "id": "15ac4977",
   "metadata": {},
   "outputs": [],
   "source": []
  }
 ],
 "metadata": {
  "kernelspec": {
   "display_name": "Python 3 (ipykernel)",
   "language": "python",
   "name": "python3"
  },
  "language_info": {
   "codemirror_mode": {
    "name": "ipython",
    "version": 3
   },
   "file_extension": ".py",
   "mimetype": "text/x-python",
   "name": "python",
   "nbconvert_exporter": "python",
   "pygments_lexer": "ipython3",
   "version": "3.9.7"
  }
 },
 "nbformat": 4,
 "nbformat_minor": 5
}
