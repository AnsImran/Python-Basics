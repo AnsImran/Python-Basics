{
 "cells": [
  {
   "cell_type": "code",
   "execution_count": 11,
   "id": "18b87a07",
   "metadata": {},
   "outputs": [],
   "source": [
    "# comments ch 2, smarter way to learn python"
   ]
  },
  {
   "cell_type": "code",
   "execution_count": 15,
   "id": "8c210fd2",
   "metadata": {},
   "outputs": [
    {
     "name": "stdout",
     "output_type": "stream",
     "text": [
      "Hello, world!\n"
     ]
    }
   ],
   "source": [
    "# multi line comments\n",
    "\n",
    "'''\n",
    "2 This is a comment.\n",
    "3 This is another comment.\n",
    "4 Python ignores these comments.\n",
    "5 The code that Python executes is on line 7.\n",
    "'''\n",
    "print(\"Hello, world!\")"
   ]
  },
  {
   "cell_type": "code",
   "execution_count": 18,
   "id": "40015f1a",
   "metadata": {},
   "outputs": [
    {
     "name": "stdout",
     "output_type": "stream",
     "text": [
      "Hello, world!\n"
     ]
    }
   ],
   "source": [
    "# single line comments\n",
    "\n",
    "# this is a single line comment\n",
    "\n",
    "print(\"Hello, world!\")"
   ]
  },
  {
   "cell_type": "code",
   "execution_count": null,
   "id": "c22a2d0d",
   "metadata": {},
   "outputs": [],
   "source": []
  }
 ],
 "metadata": {
  "kernelspec": {
   "display_name": "Python 3 (ipykernel)",
   "language": "python",
   "name": "python3"
  },
  "language_info": {
   "codemirror_mode": {
    "name": "ipython",
    "version": 3
   },
   "file_extension": ".py",
   "mimetype": "text/x-python",
   "name": "python",
   "nbconvert_exporter": "python",
   "pygments_lexer": "ipython3",
   "version": "3.9.7"
  }
 },
 "nbformat": 4,
 "nbformat_minor": 5
}
