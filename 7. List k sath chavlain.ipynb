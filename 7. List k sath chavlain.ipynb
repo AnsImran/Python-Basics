{
 "cells": [
  {
   "cell_type": "code",
   "execution_count": 1,
   "id": "c08d63bd",
   "metadata": {},
   "outputs": [],
   "source": [
    "list = []"
   ]
  },
  {
   "cell_type": "code",
   "execution_count": 6,
   "id": "6256f3ac",
   "metadata": {},
   "outputs": [
    {
     "name": "stdout",
     "output_type": "stream",
     "text": [
      "please enter anything: balls\n"
     ]
    }
   ],
   "source": [
    "i = input('please enter anything: ')"
   ]
  },
  {
   "cell_type": "code",
   "execution_count": 7,
   "id": "3288bf79",
   "metadata": {},
   "outputs": [],
   "source": [
    "list.insert(0,i)"
   ]
  },
  {
   "cell_type": "code",
   "execution_count": 8,
   "id": "e64c1581",
   "metadata": {},
   "outputs": [
    {
     "data": {
      "text/plain": [
       "['balls']"
      ]
     },
     "execution_count": 8,
     "metadata": {},
     "output_type": "execute_result"
    }
   ],
   "source": [
    "list"
   ]
  },
  {
   "cell_type": "code",
   "execution_count": null,
   "id": "1ae9bf65",
   "metadata": {},
   "outputs": [],
   "source": []
  }
 ],
 "metadata": {
  "kernelspec": {
   "display_name": "Python 3 (ipykernel)",
   "language": "python",
   "name": "python3"
  },
  "language_info": {
   "codemirror_mode": {
    "name": "ipython",
    "version": 3
   },
   "file_extension": ".py",
   "mimetype": "text/x-python",
   "name": "python",
   "nbconvert_exporter": "python",
   "pygments_lexer": "ipython3",
   "version": "3.9.7"
  }
 },
 "nbformat": 4,
 "nbformat_minor": 5
}
