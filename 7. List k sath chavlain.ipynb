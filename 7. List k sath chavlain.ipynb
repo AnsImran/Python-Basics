{
 "cells": [
  {
   "cell_type": "code",
   "execution_count": 1,
   "id": "c08d63bd",
   "metadata": {},
   "outputs": [],
   "source": [
    "list = []"
   ]
  },
  {
   "cell_type": "code",
   "execution_count": 6,
   "id": "6256f3ac",
   "metadata": {},
   "outputs": [
    {
     "name": "stdout",
     "output_type": "stream",
     "text": [
      "please enter anything: balls\n"
     ]
    }
   ],
   "source": [
    "i = input('please enter anything: ')"
   ]
  },
  {
   "cell_type": "code",
   "execution_count": 7,
   "id": "3288bf79",
   "metadata": {},
   "outputs": [],
   "source": [
    "list.insert(0,i)"
   ]
  },
  {
   "cell_type": "code",
   "execution_count": 8,
   "id": "e64c1581",
   "metadata": {},
   "outputs": [
    {
     "data": {
      "text/plain": [
       "['balls']"
      ]
     },
     "execution_count": 8,
     "metadata": {},
     "output_type": "execute_result"
    }
   ],
   "source": [
    "list"
   ]
  },
  {
   "cell_type": "code",
   "execution_count": 1,
   "id": "1ae9bf65",
   "metadata": {},
   "outputs": [
    {
     "name": "stdout",
     "output_type": "stream",
     "text": [
      "Physics marks: 100\n",
      "Chemistry marks: 100\n",
      "Mathematics marks: 90\n",
      "English marks: 80\n",
      "Arabic marks: 1\n",
      "\n",
      "************* Student Marksheet *************\n",
      "\n",
      "Physics\t\t\t  : 100\n",
      "Chemistry\t\t  : 100\n",
      "Mathematics\t\t  : 90\n",
      "English\t\t\t  : 80\n",
      "Arabic\t\t\t  : 1\n",
      "\n",
      "\n",
      "Total Marks Obtained      : 371 out of 450\n",
      "Total Percentage Obtained : 82.44 %\n",
      "\n"
     ]
    }
   ],
   "source": [
    "MAJOR_SUBJECT_MARKS = 100;\n",
    "MINOR_SUBJECT_MARKS = 50;\n",
    "TOTAL_MARKS = 450;\n",
    "\n",
    "\n",
    "# Enter Physics marks\n",
    "while True:\n",
    "    try:\n",
    "        physics = int(input(\"Physics marks: \"))\n",
    "\n",
    "        if (physics<=MAJOR_SUBJECT_MARKS and physics>0):\n",
    "            break\n",
    "\n",
    "        print(\"Invalid marks 0-100.\")\n",
    "    except ValueError:\n",
    "        print(\"Only number allowed.\")\n",
    "\n",
    "# Enter Chemistry marks\n",
    "while True:\n",
    "    try:\n",
    "        chemistry = int(input(\"Chemistry marks: \"))\n",
    "\n",
    "        if (chemistry<=MAJOR_SUBJECT_MARKS and chemistry>0):\n",
    "            break\n",
    "        \n",
    "        print(\"Invalid marks 0-100.\")\n",
    "    except ValueError:\n",
    "        print(\"Only number allowed.\")\n",
    "        continue\n",
    "\n",
    "# Enter Mathematics marks\n",
    "while True:\n",
    "    try:\n",
    "        maths = int(input(\"Mathematics marks: \"))\n",
    "\n",
    "        if (maths<=MAJOR_SUBJECT_MARKS and maths>0):\n",
    "            break\n",
    "        \n",
    "        print(\"Invalid marks 0-100.\")\n",
    "    except ValueError:\n",
    "        print(\"Only number allowed.\")\n",
    "\n",
    "# Enter English marks\n",
    "while True:\n",
    "    try:\n",
    "        english = int(input(\"English marks: \"))\n",
    "\n",
    "        if (english<=MAJOR_SUBJECT_MARKS and english>0):\n",
    "            break\n",
    "        \n",
    "        print(\"Invalid marks 0-100.\")\n",
    "    except ValueError:\n",
    "        print(\"Only number allowed.\")\n",
    "        continue\n",
    "\n",
    "# Enter Arabic marks\n",
    "while True:\n",
    "    try:\n",
    "        arabic = int(input(\"Arabic marks: \"))\n",
    "\n",
    "        if (arabic<=MINOR_SUBJECT_MARKS and arabic>0):\n",
    "            break\n",
    "        \n",
    "        print(\"Invalid marks 0-50.\")\n",
    "    except ValueError:\n",
    "        print(\"Only number allowed.\")\n",
    "\n",
    "print(\"\\n************* Student Marksheet *************\\n\")\n",
    "print(\"Physics\\t\\t\\t  : \" + str(physics))\n",
    "print(\"Chemistry\\t\\t  : \" + str(chemistry))\n",
    "print(\"Mathematics\\t\\t  : \" + str(maths))\n",
    "print(\"English\\t\\t\\t  : \" + str(english))\n",
    "print(\"Arabic\\t\\t\\t  : \" + str(arabic))\n",
    "\n",
    "obtained_marks = physics + chemistry + maths + english + arabic\n",
    "print(\"\\n\\nTotal Marks Obtained      :\", obtained_marks, \"out of\", TOTAL_MARKS, sep=' ')\n",
    "print(\"Total Percentage Obtained :\", round((obtained_marks*100)/TOTAL_MARKS, 2), \"%\", sep=' ', end='\\n\\n')"
   ]
  },
  {
   "cell_type": "code",
   "execution_count": null,
   "id": "05a96886",
   "metadata": {},
   "outputs": [],
   "source": []
  }
 ],
 "metadata": {
  "kernelspec": {
   "display_name": "Python 3 (ipykernel)",
   "language": "python",
   "name": "python3"
  },
  "language_info": {
   "codemirror_mode": {
    "name": "ipython",
    "version": 3
   },
   "file_extension": ".py",
   "mimetype": "text/x-python",
   "name": "python",
   "nbconvert_exporter": "python",
   "pygments_lexer": "ipython3",
   "version": "3.9.7"
  }
 },
 "nbformat": 4,
 "nbformat_minor": 5
}
